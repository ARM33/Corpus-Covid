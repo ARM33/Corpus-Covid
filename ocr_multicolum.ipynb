{
 "cells": [
  {
   "cell_type": "markdown",
   "metadata": {},
   "source": [
    "# OCR libreria"
   ]
  },
  {
   "cell_type": "markdown",
   "metadata": {},
   "source": [
    "Este ocr requiere de la compra de licencia para la libreria https://ocr.space/ se require compra de licencia que nos entrega la key que es requerida archivos con múltiples columnas"
   ]
  },
  {
   "cell_type": "markdown",
   "metadata": {},
   "source": [
    "se deben definir uno de los lenguajes [Optional]\n",
    "Arabic=ara\n",
    "Bulgarian=bul\n",
    "Chinese(Simplified)=chs\n",
    "Chinese(Traditional)=cht\n",
    "Croatian = hrv\n",
    "Czech = cze\n",
    "Danish = dan\n",
    "Dutch = dut\n",
    "English = eng\n",
    "Finnish = fin\n",
    "French = fre\n",
    "German = ger\n",
    "Greek = gre\n",
    "Hungarian = hun\n",
    "Korean = kor\n",
    "Italian = ita\n",
    "Japanese = jpn\n",
    "Polish = pol\n",
    "Portuguese = por\n",
    "Russian = rus\n",
    "Slovenian = slv\n",
    "Spanish = spa\n",
    "Swedish = swe\n",
    "Turkish = tur\n",
    "\n",
    "\n",
    "insert into articulos_covid values('pais','fecha','medio','item1','item2',\n",
    "'item3','tipo','nombre','txt0','txtc','txtt')"
   ]
  },
  {
   "cell_type": "code",
   "execution_count": null,
   "metadata": {},
   "outputs": [],
   "source": [
    "import ocrspace\n",
    "import json\n",
    "import requests\n",
    "import os\n",
    "from fnmatch import fnmatch\n",
    "import pymssql\n",
    "\n",
    "import time"
   ]
  },
  {
   "cell_type": "code",
   "execution_count": null,
   "metadata": {},
   "outputs": [],
   "source": [
    "idioma='spa'\n",
    "pais_extraccion= 'Spain'\n",
    "apikey='tu_key'\n",
    "pattern = \"*.pdf\"\n",
    "tipo_documento='Archivo pdf'"
   ]
  },
  {
   "cell_type": "code",
   "execution_count": null,
   "metadata": {},
   "outputs": [],
   "source": [
    "\n",
    "\n",
    "archivos_procesar=[]\n",
    "arreglo=[val for sublist in [[os.path.join(i[0], j) for j in i[2]] for i in os.walk('../spain/')] for val in sublist]\n",
    "# Meta comment to ease selecting text\n",
    "for name in arreglo:\n",
    "        if fnmatch(name, pattern):\n",
    "            archivos_procesar.append(name)\n",
    "\n",
    "\n",
    "print(len(arreglo))\n",
    "print(len(archivos_procesar))"
   ]
  },
  {
   "cell_type": "code",
   "execution_count": null,
   "metadata": {},
   "outputs": [],
   "source": [
    "max=20\n",
    "elmaslargo=''\n",
    "for name in archivos_procesar:\n",
    "    cantidad= len(archivos_procesar[100].split(\"/\"))\n",
    "    frase= archivos_procesar[100].split(\"/\")\n",
    "    if cantidad <max:\n",
    "        max=cantidad\n",
    "        elmaslargo=frase\n",
    "print(max)\n",
    "print(elmaslargo)"
   ]
  },
  {
   "cell_type": "code",
   "execution_count": null,
   "metadata": {},
   "outputs": [],
   "source": [
    "#api = ocrspace.API()\n",
    "# Or if you have an API key or desired language, pass those:\n",
    "#api = ocrspace.API(apikey, ocrspace.Language.Spanish)"
   ]
  },
  {
   "cell_type": "code",
   "execution_count": null,
   "metadata": {},
   "outputs": [],
   "source": [
    "#comprime pdfs\n",
    "def comprime_pdf(filename):\n",
    "    arreglo=filename.split(\"/\")\n",
    "    pwd=\"/\"\n",
    "    for i in range(len(arreglo)-2):\n",
    "        pwd+=  arreglo[i+1]+\"/\"\n",
    "    \n",
    "    \n",
    "    variable2=pwd+\"archivo.pdf\"\n",
    "    fila=pwd+arreglo[-1]\n",
    "    variable='gs -sDEVICE=pdfwrite -dCompatibilityLevel=1.6 -dPDFSETTINGS=/ebook -dNOPAUSE -dQUIET -dBATCH -sOutputFile=\"{}\" \"{}\"'.format(variable2,fila)\n",
    "    #print (variable)\n",
    "    os.system(variable)\n",
    "    return variable2, fila"
   ]
  },
  {
   "cell_type": "code",
   "execution_count": null,
   "metadata": {},
   "outputs": [],
   "source": [
    "#COMPRIME imagen a pdf\n",
    "def comprime_pdf_tif(filename):\n",
    "    arreglo=filename.split(\"/\")\n",
    "    pwd=\"/\"\n",
    "    for i in range(len(arreglo)-2):\n",
    "        pwd+=  arreglo[i+1]+\"/\"\n",
    "    \n",
    "    \n",
    "    variable2=pwd+\"archivo.tif\"\n",
    "    fila=pwd+arreglo[-1]\n",
    "    variable='gs -q -dNOPAUSE -r300x300 -sDEVICE=tiff24nc -sOutputFile=\"{}\" \"{}\" -c quit'.format(variable2,fila)\n",
    "    #print (variable)\n",
    "    os.system(variable)\n",
    "    return variable2, fila"
   ]
  },
  {
   "cell_type": "code",
   "execution_count": null,
   "metadata": {},
   "outputs": [],
   "source": [
    "def comprime_pdf2(filename):#COMPRIME un docx2pdf\n",
    "    arreglo=filename.split(\"/\")\n",
    "    #print(arreglo)\n",
    "    pwd=\"/docx2pdf_temp/\"\n",
    "    \n",
    "    #for i in range(len(arreglo)-2):\n",
    "    #    pwd+=  arreglo[i+1]+\"/\"\n",
    "    #    print(pwd)\n",
    "    \n",
    "    variable2=pwd+\"archivo.pdf\"\n",
    "    #print(variable2)\n",
    "    fila=pwd+arreglo[-1]\n",
    "    #print(fila)\n",
    "    variable='gs -sDEVICE=pdfwrite -dCompatibilityLevel=1.6 -dPDFSETTINGS=/ebook -dNOPAUSE -dQUIET -dBATCH -sOutputFile=\"{}\" \"{}\"'.format(variable2,fila)\n",
    "    #print (variable)\n",
    "    os.system(variable)\n",
    "    return variable2, fila"
   ]
  },
  {
   "cell_type": "markdown",
   "metadata": {},
   "source": [
    "## Proceso de OCR archivos"
   ]
  },
  {
   "cell_type": "code",
   "execution_count": null,
   "metadata": {},
   "outputs": [],
   "source": [
    "def ocr_space_file(filename, overlay=False, api_key='holamund', language='eng'):\n",
    "    \"\"\" OCR.space API request with local file.\n",
    "        Python3.5 - not tested on 2.7\n",
    "    :param filename: Your file path & name.\n",
    "    :param overlay: Is OCR.space overlay required in your response.\n",
    "                    Defaults to False.\n",
    "    :param api_key: OCR.space API key.\n",
    "                    Defaults to 'helloworld'.\n",
    "    :param language: Language code to be used in OCR.\n",
    "                    List of available language codes can be found on https://ocr.space/OCRAPI\n",
    "                    Defaults to 'en'.\n",
    "    :return: Result in JSON format.\n",
    "    \"\"\"\n",
    "\n",
    "    payload = {'isOverlayRequired': overlay,\n",
    "               'apikey': api_key,\n",
    "               'language': language\n",
    "               }\n",
    "    with open(filename, 'rb') as f:\n",
    "        r = requests.post('https://apipro1.ocr.space/parse/image',\n",
    "                          files={filename: f},\n",
    "                          data=payload,\n",
    "                          )\n",
    "    return r.content.decode()"
   ]
  },
  {
   "cell_type": "code",
   "execution_count": null,
   "metadata": {},
   "outputs": [],
   "source": [
    "def conectar():\n",
    "    conn = pymssql.connect(\"xxx.xxx.xxx.xxx\", \"usuario_base\", \"clave_base\", \"nombre_base\")\n",
    "    return conn"
   ]
  },
  {
   "cell_type": "code",
   "execution_count": null,
   "metadata": {},
   "outputs": [],
   "source": [
    "def limpia_linea(linea):\n",
    "        linea = linea.replace(\"\\n\", \" \")\n",
    "        #linea = linea.replace(\"-\", \"\")\n",
    "        linea = linea.replace(\"\\r\", \" \")\n",
    "        return linea"
   ]
  },
  {
   "cell_type": "code",
   "execution_count": null,
   "metadata": {},
   "outputs": [],
   "source": [
    "def limpia_guion_espacio(linea):\n",
    "        linea = linea.replace(\"-  \", \"\")\n",
    "        #linea = linea.replace(\"-\", \"\")\n",
    "        return linea"
   ]
  },
  {
   "cell_type": "code",
   "execution_count": null,
   "metadata": {},
   "outputs": [],
   "source": [
    "print(archivos_procesar[0])"
   ]
  },
  {
   "cell_type": "code",
   "execution_count": null,
   "metadata": {},
   "outputs": [],
   "source": [
    "tmp_arreglo= archivos_procesar"
   ]
  },
  {
   "cell_type": "code",
   "execution_count": null,
   "metadata": {},
   "outputs": [],
   "source": [
    "print(len(tmp_arreglo))\n",
    "\n",
    "archivos_procesar=tmp_arreglo[0:]\n",
    "print(len(archivos_procesar))"
   ]
  },
  {
   "cell_type": "code",
   "execution_count": null,
   "metadata": {},
   "outputs": [],
   "source": [
    "#prueba de retorno de OCR desde librería\n",
    "\n",
    "retorno= ocr_space_file(\"/home/andres/spain/NEWSPAPERS/MAY_10/ELMUNDO/archivo.pdf\",False, apikey,idioma)\n",
    "jsoon_data=json.loads(retorno)\n",
    "print(jsoon_data)\n",
    "texto = jsoon_data['ParsedResults'][0]['ParsedText']\n",
    "#texto2=limpia_linea(texto)"
   ]
  },
  {
   "cell_type": "code",
   "execution_count": null,
   "metadata": {},
   "outputs": [],
   "source": [
    "print( archivos_procesar[0] )"
   ]
  },
  {
   "cell_type": "code",
   "execution_count": null,
   "metadata": {},
   "outputs": [],
   "source": [
    "variable2, fila=comprime_pdf(archivos_procesar[0])\n",
    "#print(\"/home/andresramos/ocr/chile/11 abril/biobio.cl/23 PM/Noticias/L790/L790.pdf\".split(\"/\"))\n",
    "print( fila.split(\"/\")[-1].split(\"_\")[1])\n",
    "print(variable2)"
   ]
  },
  {
   "cell_type": "code",
   "execution_count": null,
   "metadata": {},
   "outputs": [],
   "source": [
    "print(variable2.split(\"/\"))"
   ]
  },
  {
   "cell_type": "code",
   "execution_count": null,
   "metadata": {},
   "outputs": [],
   "source": [
    "### PROCESAR PDFS #####\n",
    "\n",
    "count=0\n",
    "for fila2 in archivos_procesar:\n",
    "        fila2=fila2.replace(\"’\", \"\")\n",
    "        variable2, fila=comprime_pdf(fila2)\n",
    "        retorno= ocr_space_file(variable2,False, apikey,idioma)\n",
    "        jsoon_data=json.loads(retorno)\n",
    "        texto_extraido= \"\"\n",
    "        for hojas in range(len(jsoon_data['ParsedResults'])) :\n",
    "            texto_extraido=texto_extraido + jsoon_data['ParsedResults'][hojas]['ParsedText'] \n",
    "        texto = texto_extraido\n",
    "        texto2=limpia_linea(texto)\n",
    "        frase_fila= fila.split(\"/\")\n",
    "        pais= pais_extraccion\n",
    "        fecha= frase_fila[5] #fila.split(\"/\")[-1].split(\".\")[0]\n",
    "        medio= frase_fila[6]\n",
    "        if len(frase_fila)>=9:\n",
    "                item1= frase_fila[6]\n",
    "        else:\n",
    "            item1= 'otros'\n",
    "        if len(frase_fila)>=10:\n",
    "                item2= frase_fila[8]\n",
    "        else:\n",
    "            item2= 'otros'\n",
    "        item3= 'otros'\n",
    "        tipo=tipo_documento \n",
    "        nombre=fila.split(\"/\")[-1].split(\".\")[0]\n",
    "        txt0=limpia_linea(texto)\n",
    "        txtc= limpia_guion_espacio(txt0)\n",
    "        txtt= 'pendiente'\n",
    "        conn= conectar()\n",
    "        cursor2 = conn.cursor()\n",
    "        cursor2.executemany(\n",
    "                        \"INSERT INTO articulos_covid VALUES ( %s, %s, %s, %s, %s, %s, %s, %s, %s, %s, %s)\",\n",
    "                        [(pais,fecha,medio,item1,item2, item3,tipo,nombre,txt0,txtc,txtt)])\n",
    "                        # you must call commit() to persist your data if you don't set autocommit to True\n",
    "        conn.commit()\n",
    "        cursor2.close()\n",
    "        conn.close()\n",
    "\n",
    "        if count%55==0:\n",
    "            print(count)\n",
    "            localtime = time.localtime()\n",
    "            print(time.strftime(\"%I:%M:%S %p\", localtime))\n",
    "            time.sleep(601)\n",
    "            localtime = time.localtime()\n",
    "            print(time.strftime(\"%I:%M:%S %p\", localtime))\n",
    "        count+=1\n",
    "  \n",
    "    "
   ]
  },
  {
   "cell_type": "code",
   "execution_count": null,
   "metadata": {},
   "outputs": [],
   "source": [
    "### TRASFORMA DOC A PDF ###\n",
    "def docx2pdf (filename):\n",
    "    lugar_almacenamiento =\"/home/andres/docx2pdf_temp\"\n",
    "    filename = filename.replace(' ', '\\ ')\n",
    "    arreglo=filename.split(\"/\")\n",
    "    pwd=\"/home/andres/\"\n",
    "    for i in range(len(arreglo)-2):\n",
    "        pwd+=  arreglo[i+1]+\"/\"\n",
    "    #print(filename)\n",
    "    #print(pwd)\n",
    "    comando = 'lowriter --convert-to pdf --outdir {} {}'.format(lugar_almacenamiento,filename)\n",
    "    os.system(comando)\n",
    "    archivo= filename.split(\"/\")\n",
    "    nom_archivo= archivo[-1].split(\".\")\n",
    "    #print (nom_archivo[0])\n",
    "    url_archivo= lugar_almacenamiento+\"/\"+nom_archivo[-2]+\".pdf\"\n",
    "    #print(url_archivo)\n",
    "    return url_archivo, nom_archivo[0]\n",
    "    "
   ]
  },
  {
   "cell_type": "code",
   "execution_count": null,
   "metadata": {},
   "outputs": [],
   "source": [
    "docx2pdf(archivos_procesar[0])"
   ]
  },
  {
   "cell_type": "code",
   "execution_count": null,
   "metadata": {},
   "outputs": [],
   "source": [
    "### PROCESAR DOCX #####\n",
    "\n",
    "count=0\n",
    "for fila2 in archivos_procesar:\n",
    "        \n",
    "        fila2=fila2.replace(\"’\", \"\")\n",
    "        fila= fila2\n",
    "        fila2, nombre_archivo=docx2pdf(fila2)\n",
    "        variable2, fila_no=comprime_pdf2(fila2)\n",
    "        #print(variable2)\n",
    "        retorno= ocr_space_file(variable2,False, apikey,idioma)\n",
    "        jsoon_data=json.loads(retorno)\n",
    "        texto_extraido= \"\"\n",
    "        for hojas in range(len(jsoon_data['ParsedResults'])) :\n",
    "            texto_extraido=texto_extraido + jsoon_data['ParsedResults'][hojas]['ParsedText'] \n",
    "        texto = texto_extraido\n",
    "        #texto = jsoon_data['ParsedResults'][0]['ParsedText']\n",
    "        texto2=limpia_linea(texto)\n",
    "        frase_fila= fila.split(\"/\")\n",
    "        #print(fila)\n",
    "        #print(frase_fila)\n",
    "        pais= pais_extraccion\n",
    "        fecha= frase_fila[4]\n",
    "        medio= frase_fila[5]\n",
    "        if len(frase_fila)>=9:\n",
    "                item1= frase_fila[6]\n",
    "        else:\n",
    "            item1= 'otros'\n",
    "        if len(frase_fila)>=10:\n",
    "                item2= frase_fila[8]\n",
    "        else:\n",
    "            item2= 'otros'\n",
    "        item3= 'otros'\n",
    "        tipo=tipo_documento \n",
    "        nombre=fila.split(\"/\")[-1].split(\".\")[0]\n",
    "        txt0=limpia_linea(texto)\n",
    "        txtc= limpia_guion_espacio(txt0)\n",
    "        txtt= 'pendiente'\n",
    "        conn= conectar()\n",
    "        cursor2 = conn.cursor()\n",
    "        cursor2.executemany(\n",
    "                        \"INSERT INTO articulos_covid VALUES ( %s, %s, %s, %s, %s, %s, %s, %s, %s, %s, %s)\",\n",
    "                        [(pais,fecha,medio,item1,item2, item3,tipo,nombre_archivo,txt0,txtc,txtt)])\n",
    "                        # you must call commit() to persist your data if you don't set autocommit to True\n",
    "        conn.commit()\n",
    "        cursor2.close()\n",
    "        conn.close()\n",
    "\n",
    "        if count%55==0:\n",
    "            print(count)\n",
    "            localtime = time.localtime()\n",
    "            print(time.strftime(\"%I:%M:%S %p\", localtime))\n",
    "            time.sleep(601)\n",
    "            localtime = time.localtime()\n",
    "            print(time.strftime(\"%I:%M:%S %p\", localtime))\n",
    "        count+=1\n",
    "  "
   ]
  },
  {
   "cell_type": "code",
   "execution_count": null,
   "metadata": {},
   "outputs": [],
   "source": [
    "### TRANSFORMA IMAGEN A PDF\n",
    "\n",
    "from PIL import Image\n",
    "def jpg2pdf (filename):\n",
    "    #print (filename)\n",
    "    lugar_almacenamiento =\"/jpg2pdf_tmp\"\n",
    "    #filename = filename.replace(' ', '\\ ')\n",
    "    arreglo=filename.split(\"/\")\n",
    "    pwd=\"/\"\n",
    "    for i in range(len(arreglo)-2):\n",
    "        pwd+=  arreglo[i+1]+\"/\"\n",
    "    #print(filename)\n",
    "    #print(pwd)\n",
    "    image1 = Image.open(filename)\n",
    "    im1 = image1.convert('RGB')\n",
    "    \n",
    "    archivo= filename.split(\"/\")\n",
    "    nom_archivo= archivo[-1].split(\".\")\n",
    "    #print (nom_archivo[0])\n",
    "    url_archivo= lugar_almacenamiento+\"/\"+nom_archivo[-2]+\".pdf\"\n",
    "    #print(url_archivo) \n",
    "    im1.save(url_archivo)\n",
    "    return url_archivo, nom_archivo[0]\n",
    "   "
   ]
  },
  {
   "cell_type": "code",
   "execution_count": null,
   "metadata": {},
   "outputs": [],
   "source": [
    "def comprime_pdf_jpg(filename):\n",
    "    arreglo=filename.split(\"/\")\n",
    "    #print(arreglo)\n",
    "    pwd=\"/jpg2pdf_tmp/\"\n",
    "    \n",
    "    #for i in range(len(arreglo)-2):\n",
    "    #    pwd+=  arreglo[i+1]+\"/\"\n",
    "    #    print(pwd)\n",
    "    \n",
    "    variable2=pwd+\"archivo.pdf\"\n",
    "    #print(variable2)\n",
    "    fila=pwd+arreglo[-1]\n",
    "    #print(fila)\n",
    "    variable='gs -sDEVICE=pdfwrite -dCompatibilityLevel=1.6 -dPDFSETTINGS=/ebook -dNOPAUSE -dQUIET -dBATCH -sOutputFile=\"{}\" \"{}\"'.format(variable2,fila)\n",
    "    #print (variable)\n",
    "    os.system(variable)\n",
    "    return variable2, fila"
   ]
  },
  {
   "cell_type": "code",
   "execution_count": null,
   "metadata": {},
   "outputs": [],
   "source": [
    "### PROCESAR JPG #####\n",
    "\n",
    "count=0\n",
    "for fila2 in archivos_procesar:\n",
    "        fila2=fila2.replace(\"’\", \"\")\n",
    "        fila= fila2\n",
    "        fila2, nombre_archivo=jpg2pdf(fila2)\n",
    "        variable2, fila_no=comprime_pdf_jpg(fila2)\n",
    "        #print(variable2)\n",
    "        retorno= ocr_space_file(variable2,False, apikey,idioma)\n",
    "        jsoon_data=json.loads(retorno)\n",
    "        texto_extraido= \"\"\n",
    "        for hojas in range(len(jsoon_data['ParsedResults'])) :\n",
    "            texto_extraido=texto_extraido + jsoon_data['ParsedResults'][hojas]['ParsedText'] \n",
    "        texto = texto_extraido\n",
    "        texto2=limpia_linea(texto)\n",
    "        frase_fila= fila.split(\"/\")\n",
    "        #print(frase_fila)\n",
    "        pais= pais_extraccion\n",
    "        fecha=  fila.split(\"/\")[-1].split(\".\")[0].split(\"_\")[1] #frase_fila[6]\n",
    "        #print(fecha)\n",
    "        medio= frase_fila[2]\n",
    "        if len(frase_fila)>=9:\n",
    "                item1= frase_fila[6]\n",
    "        else:\n",
    "            item1= 'otros'\n",
    "        if len(frase_fila)>=10:\n",
    "                item2= frase_fila[8]\n",
    "        else:\n",
    "            item2= 'otros'\n",
    "        item3= 'otros'\n",
    "        tipo=tipo_documento \n",
    "        nombre=fila.split(\"/\")[-1].split(\".\")[0]\n",
    "        txt0=limpia_linea(texto)\n",
    "        txtc= limpia_guion_espacio(txt0)\n",
    "        txtt= 'pendiente'\n",
    "        conn= conectar()\n",
    "        cursor2 = conn.cursor()\n",
    "        cursor2.executemany(\n",
    "                        \"INSERT INTO articulos_covid VALUES ( %s, %s, %s, %s, %s, %s, %s, %s, %s, %s, %s)\",\n",
    "                        [(pais,fecha,medio,item1,item2, item3,tipo,nombre,txt0,txtc,txtt)])\n",
    "                        # you must call commit() to persist your data if you don't set autocommit to True\n",
    "        conn.commit()\n",
    "        cursor2.close()\n",
    "        conn.close()\n",
    "\n",
    "        if count%55==0:\n",
    "            print(count)\n",
    "            localtime = time.localtime()\n",
    "            print(time.strftime(\"%I:%M:%S %p\", localtime))\n",
    "            time.sleep(601)\n",
    "            localtime = time.localtime()\n",
    "            print(time.strftime(\"%I:%M:%S %p\", localtime))\n",
    "        count+=1\n",
    "  \n",
    "    "
   ]
  }
 ],
 "metadata": {
  "kernelspec": {
   "display_name": "Python 3",
   "language": "python",
   "name": "python3"
  },
  "language_info": {
   "codemirror_mode": {
    "name": "ipython",
    "version": 3
   },
   "file_extension": ".py",
   "mimetype": "text/x-python",
   "name": "python",
   "nbconvert_exporter": "python",
   "pygments_lexer": "ipython3",
   "version": "3.6.9"
  }
 },
 "nbformat": 4,
 "nbformat_minor": 4
}
