{
 "cells": [
  {
   "cell_type": "markdown",
   "metadata": {},
   "source": [
    "# Speech to Text"
   ]
  },
  {
   "cell_type": "markdown",
   "metadata": {},
   "source": [
    "librerias requeridas"
   ]
  },
  {
   "cell_type": "code",
   "execution_count": null,
   "metadata": {},
   "outputs": [],
   "source": [
    "import os\n",
    "import io\n",
    "from google.cloud import speech\n",
    "# Imports the Google Cloud client library\n",
    "from google.cloud import storage"
   ]
  },
  {
   "cell_type": "markdown",
   "metadata": {},
   "source": [
    "llave de acceso a google, en caso de cambiar la cuenta de google se requiere crear nueva llave"
   ]
  },
  {
   "cell_type": "code",
   "execution_count": null,
   "metadata": {},
   "outputs": [],
   "source": [
    "os.environ[\"GOOGLE_APPLICATION_CREDENTIALS\"] = \"/path/covidpositivo-13fea1e69390.json\"\n"
   ]
  },
  {
   "cell_type": "markdown",
   "metadata": {},
   "source": [
    "variables globales "
   ]
  },
  {
   "cell_type": "code",
   "execution_count": null,
   "metadata": {},
   "outputs": [],
   "source": [
    "salida='/Path_donde_guarda_tmp_wav/out2.wav'"
   ]
  },
  {
   "cell_type": "code",
   "execution_count": null,
   "metadata": {},
   "outputs": [],
   "source": [
    "idioma='es-CL'\n",
    "pais_extraccion= 'Chile'\n",
    "pattern = \"*.mp4\"\n",
    "tipo_documento='Archivo mp4'"
   ]
  },
  {
   "cell_type": "markdown",
   "metadata": {},
   "source": [
    "Para ajustar el formato del del audio desde mp4 a wav mono 16000\n",
    "\n",
    "ffmpeg -i T1Mar1COVID.mp4 -ac 1 -ar 16000 out.wav"
   ]
  },
  {
   "cell_type": "code",
   "execution_count": null,
   "metadata": {},
   "outputs": [],
   "source": [
    "def encode_audio(audio_entrada):\n",
    "    path_base= \"/\"\n",
    "    file=  audio_entrada #'T1Mar1COVID.mp4'\n",
    "    comando = 'ffmpeg -i {} -ac 1 -ar 16000 {}'.format(file, salida)\n",
    "    os.system(comando)"
   ]
  },
  {
   "cell_type": "code",
   "execution_count": null,
   "metadata": {},
   "outputs": [],
   "source": [
    "#encode_audio('/home/andres/Alemania/RTL Aktuell 1/RTLAktuell_0510_COVID_02.mp4')\n",
    "\n",
    "#ffmpeg -i nn.mp4 -ac 1 -ar 16000 misalidaError.wav"
   ]
  },
  {
   "cell_type": "markdown",
   "metadata": {},
   "source": [
    "## Funciones para transcripción con google"
   ]
  },
  {
   "cell_type": "code",
   "execution_count": null,
   "metadata": {},
   "outputs": [],
   "source": [
    "#funcion para transcripcion de video a texto\n",
    "def transcribe_gcs(gcs_uri):\n",
    "    \"\"\"Asynchronously transcribes the audio file specified by the gcs_uri.\"\"\"\n",
    "    from google.cloud import speech\n",
    "\n",
    "    client = speech.SpeechClient()\n",
    "\n",
    "    audio = speech.RecognitionAudio(uri=gcs_uri)\n",
    "    config = speech.RecognitionConfig(\n",
    "       # encoding=speech.RecognitionConfig.AudioEncoding.FLAC,\n",
    "        sample_rate_hertz=16000,\n",
    "        language_code=idioma,\n",
    "    )\n",
    "\n",
    "    operation = client.long_running_recognize(\n",
    "        request={\"config\": config, \"audio\": audio}\n",
    "    )\n",
    "\n",
    "    operation = client.long_running_recognize(config=config, audio=audio)\n",
    "\n",
    "    print(\"Waiting for operation to complete...\")\n",
    "    response = operation.result(timeout=200)\n",
    "\n",
    "    # Each result is for a consecutive portion of the audio. Iterate through\n",
    "    # them to get the transcripts for the entire audio file.\n",
    "    datos=\"\"\n",
    "    for result in response.results:\n",
    "        # The first alternative is the most likely one for this portion.\n",
    "        #print(u\"Transcript: {}\".format(result.alternatives[0].transcript))\n",
    "        datos= datos + \" \" + result.alternatives[0].transcript\n",
    "        #print(\"Confidence: {}\".format(result.alternatives[0].confidence))\n",
    "    return  datos\n"
   ]
  },
  {
   "cell_type": "code",
   "execution_count": null,
   "metadata": {},
   "outputs": [],
   "source": [
    "#dato_final = transcribe_gcs(\"gs://nuevo_covid2/out2.wav\")"
   ]
  },
  {
   "cell_type": "code",
   "execution_count": null,
   "metadata": {},
   "outputs": [],
   "source": [
    "#print (dato_final)"
   ]
  },
  {
   "cell_type": "code",
   "execution_count": null,
   "metadata": {},
   "outputs": [],
   "source": [
    "#storage_client = storage.Client()"
   ]
  },
  {
   "cell_type": "code",
   "execution_count": null,
   "metadata": {},
   "outputs": [],
   "source": [
    "#funcion para subir archivo wav a bucket google\n",
    "def upload_blob(bucket_name, source_file_name, destination_blob_name):\n",
    "    \"\"\"Uploads a file to the bucket.\"\"\"\n",
    "    # bucket_name = \"your-bucket-name\"\n",
    "    # source_file_name = \"local/path/to/file\"\n",
    "    # destination_blob_name = \"storage-object-name\"\n",
    "\n",
    "    storage_client = storage.Client()\n",
    "    bucket = storage_client.bucket(bucket_name)\n",
    "    blob = bucket.blob(destination_blob_name)\n",
    "\n",
    "    blob.upload_from_filename(source_file_name)\n",
    "\n",
    "    print(\n",
    "        \"File {} uploaded to {}.\".format(\n",
    "            source_file_name, destination_blob_name\n",
    "        )\n",
    "    )\n"
   ]
  },
  {
   "cell_type": "code",
   "execution_count": null,
   "metadata": {},
   "outputs": [],
   "source": [
    "#upload_blob('nuevo_covid2', salida, 'out2.wav' )"
   ]
  },
  {
   "cell_type": "code",
   "execution_count": null,
   "metadata": {},
   "outputs": [],
   "source": [
    "#print(hola)"
   ]
  },
  {
   "cell_type": "code",
   "execution_count": null,
   "metadata": {},
   "outputs": [],
   "source": [
    "#elimina archivo desde bucket google\n",
    "def delete_blob(bucket_name, blob_name):\n",
    "    \"\"\"Deletes a blob from the bucket.\"\"\"\n",
    "    # bucket_name = \"your-bucket-name\"\n",
    "    # blob_name = \"your-object-name\"\n",
    "\n",
    "    storage_client = storage.Client()\n",
    "\n",
    "    bucket = storage_client.bucket(bucket_name)\n",
    "    blob = bucket.blob(blob_name)\n",
    "    blob.delete()\n",
    "\n",
    "    print(\"Blob {} deleted.\".format(blob_name))"
   ]
  },
  {
   "cell_type": "code",
   "execution_count": null,
   "metadata": {},
   "outputs": [],
   "source": [
    "delete_blob('nuevo_covid', '../tmp_audio/out2.wav' )"
   ]
  },
  {
   "cell_type": "markdown",
   "metadata": {},
   "source": [
    "## Procesamiento de archivos desde carpetas a base de datos\n",
    "\n",
    "primero librerías requeridas para procesamiento de carpetas y bases de datos"
   ]
  },
  {
   "cell_type": "code",
   "execution_count": null,
   "metadata": {},
   "outputs": [],
   "source": [
    "import ocrspace\n",
    "import json\n",
    "import requests\n",
    "import os\n",
    "from fnmatch import fnmatch\n",
    "import pymssql\n",
    "\n",
    "import time"
   ]
  },
  {
   "cell_type": "markdown",
   "metadata": {},
   "source": [
    "Paso 1: extraer path de disco de los archivos a procesar"
   ]
  },
  {
   "cell_type": "code",
   "execution_count": null,
   "metadata": {},
   "outputs": [],
   "source": [
    "archivos_procesar=[]\n",
    "arreglo=[val for sublist in [[os.path.join(i[0], j) for j in i[2]] for i in os.walk('../chile/')] for val in sublist]\n",
    "# Meta comment to ease selecting text\n",
    "for name in arreglo:\n",
    "        if fnmatch(name, pattern):\n",
    "            archivos_procesar.append(name)\n",
    "\n",
    "\n",
    "print(len(arreglo))\n",
    "print(len(archivos_procesar))"
   ]
  },
  {
   "cell_type": "code",
   "execution_count": null,
   "metadata": {},
   "outputs": [],
   "source": [
    "#Este código es sólo para verificar la estructura archivo con mayor cantodad de caracteres.\n",
    "max=20\n",
    "elmaslargo=''\n",
    "for name in archivos_procesar:\n",
    "    cantidad= len(archivos_procesar[2].split(\"/\"))\n",
    "    frase= archivos_procesar[2].split(\"/\")\n",
    "    if cantidad <max:\n",
    "        max=cantidad\n",
    "        elmaslargo=frase\n",
    "print(max)\n",
    "print(elmaslargo)"
   ]
  },
  {
   "cell_type": "markdown",
   "metadata": {},
   "source": [
    "Acceso a la base de datos"
   ]
  },
  {
   "cell_type": "code",
   "execution_count": null,
   "metadata": {},
   "outputs": [],
   "source": [
    "def conectar():\n",
    "    conn = pymssql.connect(\"xxx.xxxx.xxx.xxx\", \"usuario_base\", \"clave_base\", \"nombre_base_datos\")\n",
    "    return conn"
   ]
  },
  {
   "cell_type": "code",
   "execution_count": null,
   "metadata": {},
   "outputs": [],
   "source": [
    "tmp_arreglo= archivos_procesar"
   ]
  },
  {
   "cell_type": "code",
   "execution_count": null,
   "metadata": {
    "scrolled": true
   },
   "outputs": [],
   "source": [
    "for numero in range(len(tmp_arreglo)):\n",
    "    print(\"pos \" + str(numero) +\"--\" + tmp_arreglo[numero])"
   ]
  },
  {
   "cell_type": "code",
   "execution_count": null,
   "metadata": {},
   "outputs": [],
   "source": [
    "print(len(tmp_arreglo))\n",
    "\n",
    "archivos_procesar=tmp_arreglo[547:]\n",
    "print(len(archivos_procesar))\n",
    "print(archivos_procesar[0])\n",
    "if not('\\''  in archivos_procesar[0]):\n",
    "    print(\"correcto\")"
   ]
  },
  {
   "cell_type": "code",
   "execution_count": null,
   "metadata": {},
   "outputs": [],
   "source": [
    "### PROCESAR PDFS #####\n",
    "\n",
    "count=0\n",
    "for fila2 in archivos_procesar:\n",
    "        if not('\\''  in fila2):\n",
    "            print(count)\n",
    "            print(fila2)\n",
    "            encode_audio(fila2)\n",
    "            time.sleep(20)\n",
    "            print('listo tiempo espera')\n",
    "            upload_blob('nuevo_covid2', salida, 'out2.wav' )\n",
    "            dato_final = transcribe_gcs(\"gs://nuevo_covid2/out2.wav\")\n",
    "            delete_blob('nuevo_covid2', 'out2.wav' )\n",
    "            pais= pais_extraccion\n",
    "            frase_fila= fila2.split(\"/\")\n",
    "            fecha=frase_fila[2]  #'Sin fecha' #fila2.split(\"/\")[-1].split(\".\")[0].split(\"_\")[1]#fila.split(\"/\")[-1].split(\".\")[0]\n",
    "            medio= frase_fila[3]\n",
    "            item1= 'otros'\n",
    "            item2= 'otros'\n",
    "            item3= 'otros'\n",
    "            tipo=tipo_documento \n",
    "            nombre=fila2.split(\"/\")[-1].split(\".\")[0]\n",
    "            txt0=''\n",
    "            txtc= dato_final\n",
    "            txtt= 'pendiente'\n",
    "            conn= conectar()\n",
    "            cursor2 = conn.cursor()\n",
    "            cursor2.executemany(\n",
    "                            \"INSERT INTO videos_covid VALUES ( %s, %s, %s, %s, %s, %s, %s, %s, %s, %s, %s)\",\n",
    "                            [(pais,fecha,medio,item1,item2, item3,tipo,nombre,txt0,txtc,txtt)])\n",
    "                            # you must call commit() to persist your data if you don't set autocommit to True\n",
    "            conn.commit()\n",
    "            cursor2.close()\n",
    "            conn.close()\n",
    "            comando = 'rm {}'.format(salida)\n",
    "            os.system(comando)\n",
    "            #print ('fin')\n",
    "            #break\n",
    "            count+=1\n",
    "\n"
   ]
  },
  {
   "cell_type": "markdown",
   "metadata": {},
   "source": [
    "## Proceso Optativo\n",
    "\n",
    "En algunos casos es necesario limpiar los nombres de archivos desde carácteres especiales, para ello los dós códigos a continuación lo permiten el primer código es para nombres de directorios y el útlimo código es para nombres de archivos. "
   ]
  },
  {
   "cell_type": "code",
   "execution_count": null,
   "metadata": {},
   "outputs": [],
   "source": [
    "import os\n",
    "files = [x[0] for x in os.walk('../chile/')] \n",
    "cambio=' '\n",
    "nuevo='_'\n",
    "for src in files:\n",
    "    if cambio in src:\n",
    "        print(src)\n",
    "        dst = src.replace(cambio, nuevo)\n",
    "        os.rename(src, dst)"
   ]
  },
  {
   "cell_type": "code",
   "execution_count": null,
   "metadata": {},
   "outputs": [],
   "source": [
    "print (files)"
   ]
  },
  {
   "cell_type": "code",
   "execution_count": null,
   "metadata": {},
   "outputs": [],
   "source": [
    "archivos_procesar=[]\n",
    "arreglo=[val for sublist in [[os.path.join(i[0], j) for j in i[2]] for i in os.walk('../chile/')] for val in sublist]\n",
    "# Meta comment to ease selecting text\n",
    "cambio=' '\n",
    "nuevo='_'\n",
    "for src in arreglo:\n",
    "        if cambio in src:\n",
    "            print(src)\n",
    "            dst = src.replace(cambio, nuevo)\n",
    "            os.rename(src, dst)"
   ]
  },
  {
   "cell_type": "code",
   "execution_count": null,
   "metadata": {},
   "outputs": [],
   "source": []
  }
 ],
 "metadata": {
  "kernelspec": {
   "display_name": "Python 3",
   "language": "python",
   "name": "python3"
  },
  "language_info": {
   "codemirror_mode": {
    "name": "ipython",
    "version": 3
   },
   "file_extension": ".py",
   "mimetype": "text/x-python",
   "name": "python",
   "nbconvert_exporter": "python",
   "pygments_lexer": "ipython3",
   "version": "3.6.9"
  }
 },
 "nbformat": 4,
 "nbformat_minor": 4
}
