{
 "cells": [
  {
   "cell_type": "code",
   "execution_count": 1,
   "metadata": {},
   "outputs": [
    {
     "data": {
      "text/plain": [
       "95"
      ]
     },
     "execution_count": 1,
     "metadata": {},
     "output_type": "execute_result"
    }
   ],
   "source": [
    "from ipyparallel import Client\n",
    "rc = Client(profile='pucv-cluster')\n",
    "len(rc)"
   ]
  },
  {
   "cell_type": "code",
   "execution_count": 2,
   "metadata": {},
   "outputs": [],
   "source": [
    "bview = rc.load_balanced_view()\n",
    "dview = rc[:]"
   ]
  },
  {
   "cell_type": "code",
   "execution_count": 3,
   "metadata": {},
   "outputs": [
    {
     "name": "stdout",
     "output_type": "stream",
     "text": [
      "importing re on engine(s)\n"
     ]
    }
   ],
   "source": [
    "with dview.sync_imports():\n",
    "    import re"
   ]
  },
  {
   "cell_type": "code",
   "execution_count": 4,
   "metadata": {},
   "outputs": [],
   "source": [
    "import csv\n",
    "import pandas as pd\n",
    "import unicodedata\n",
    "import unidecode"
   ]
  },
  {
   "cell_type": "code",
   "execution_count": 5,
   "metadata": {},
   "outputs": [],
   "source": [
    "def getLabels(file):\n",
    "    labels = []\n",
    "    df = pd.read_excel(file,sep=\";\")\n",
    "    for d in df:\n",
    "        for f in df[d]:\n",
    "            if not str(f) in ['nan','--','/']:\n",
    "                labels.append(f)\n",
    "    return labels\n",
    "\n",
    "def strip_accents(text):\n",
    "    aux_text = text.replace(\"á\",\"a\")\n",
    "    aux_text = aux_text.replace(\"é\",\"e\")\n",
    "    aux_text = aux_text.replace(\"í\",\"i\")\n",
    "    aux_text = aux_text.replace(\"ó\",\"o\")\n",
    "    aux_text = aux_text.replace(\"ú\",\"u\")\n",
    "    aux_text = aux_text.replace(\"ñ\",\"n\")\n",
    "    \n",
    "    return aux_text\n",
    "    "
   ]
  },
  {
   "cell_type": "code",
   "execution_count": 6,
   "metadata": {},
   "outputs": [],
   "source": [
    "verbs = getLabels('DECLARATIVE VERBS FOR SOURCES_FINAL NOV10_LISTO.xlsx')"
   ]
  },
  {
   "cell_type": "code",
   "execution_count": 7,
   "metadata": {},
   "outputs": [
    {
     "name": "stdout",
     "output_type": "stream",
     "text": [
      "CPU times: user 0 ns, sys: 0 ns, total: 0 ns\n",
      "Wall time: 11.7 µs\n"
     ]
    },
    {
     "data": {
      "text/plain": [
       "'Estimo'"
      ]
     },
     "execution_count": 7,
     "metadata": {},
     "output_type": "execute_result"
    }
   ],
   "source": [
    "%%time\n",
    "strip_accents(verbs[50])"
   ]
  },
  {
   "cell_type": "code",
   "execution_count": 8,
   "metadata": {},
   "outputs": [
    {
     "data": {
      "text/plain": [
       "'Fa Yan shita'"
      ]
     },
     "execution_count": 8,
     "metadata": {},
     "output_type": "execute_result"
    }
   ],
   "source": [
    "unidecode.unidecode(verbs[700])"
   ]
  },
  {
   "cell_type": "code",
   "execution_count": 9,
   "metadata": {},
   "outputs": [
    {
     "name": "stdout",
     "output_type": "stream",
     "text": [
      "  95/95 tasks finished after    0 s\n",
      "done\n"
     ]
    }
   ],
   "source": [
    "ar = dview.push({'labels':verbs,'strip_accents':strip_accents},block=False)\n",
    "ar.wait_interactive()"
   ]
  },
  {
   "cell_type": "code",
   "execution_count": 10,
   "metadata": {},
   "outputs": [],
   "source": [
    "#verbs"
   ]
  },
  {
   "cell_type": "code",
   "execution_count": 11,
   "metadata": {},
   "outputs": [
    {
     "name": "stdout",
     "output_type": "stream",
     "text": [
      "  95/95 tasks finished after   37 s\n",
      "done\n"
     ]
    }
   ],
   "source": [
    "cFile01 = 'COVID-post_enero-julio_FBK-DEF.csv'\n",
    "df_messages = pd.read_csv(cFile01, sep=';', error_bad_lines=False, low_memory=False)\n",
    "df_messages['Message'] = df_messages['Message'].fillna('')\n",
    "messages = df_messages['Message'].values\n",
    "\n",
    "ar = dview.push({'messages':messages},block=False)\n",
    "ar.wait_interactive()"
   ]
  },
  {
   "cell_type": "code",
   "execution_count": null,
   "metadata": {},
   "outputs": [],
   "source": []
  },
  {
   "cell_type": "code",
   "execution_count": 12,
   "metadata": {},
   "outputs": [],
   "source": [
    "def clean(arr):\n",
    "    for i in range(len(arr)):\n",
    "        if len(arr[i])>0:\n",
    "            newWord=''\n",
    "            for j in range(len(arr[i])):\n",
    "                w = ',' if j > 0 else ''\n",
    "                newWord+=w+arr[i][j]\n",
    "            arr[i]=newWord\n",
    "        else:\n",
    "            arr[i]=''"
   ]
  },
  {
   "cell_type": "code",
   "execution_count": 13,
   "metadata": {},
   "outputs": [
    {
     "name": "stdout",
     "output_type": "stream",
     "text": [
      "  95/95 tasks finished after    0 s\n",
      "done\n"
     ]
    }
   ],
   "source": [
    "def isOnIt(word, sentence):\n",
    "    x = re.findall(\"\\\\b({}|{})\\\\b\".format(str(word).capitalize(),str(word.lower())),str(sentence))\n",
    "    if x:\n",
    "        return True\n",
    "    else:\n",
    "        return False\n",
    "    sentence = sentence.upper().split()\n",
    "    if not str(sentence) in ['nan','--','/']:\n",
    "        if str(word).upper() in sentence: \n",
    "            return True\n",
    "        else:\n",
    "            return False\n",
    "        \n",
    "ar = dview.push({'isOnIt':isOnIt},block=False)\n",
    "ar.wait_interactive()"
   ]
  },
  {
   "cell_type": "code",
   "execution_count": 14,
   "metadata": {},
   "outputs": [],
   "source": [
    "def getMatch(messages,labels):\n",
    "    matches = []\n",
    "    for i in range(len(messages)):\n",
    "        words = []\n",
    "        for j in range(len(labels)):\n",
    "            if isOnIt(labels[j],messages[i]):\n",
    "                if not str(labels[j]) in words:\n",
    "                    words.append(labels[j]) \n",
    "        matches.append(words)\n",
    "    clean(matches)\n",
    "    return matches\n",
    "\n",
    "@bview.parallel()\n",
    "def _get_matches(idx):\n",
    "    words = []\n",
    "    for j in range(len(labels)):\n",
    "        if isOnIt(labels[j],messages[idx]):\n",
    "            if not str(labels[j]) in words:\n",
    "                words.append(labels[j]) \n",
    "    return words"
   ]
  },
  {
   "cell_type": "code",
   "execution_count": 15,
   "metadata": {},
   "outputs": [
    {
     "name": "stdout",
     "output_type": "stream",
     "text": [
      "304002/304002 tasks finished after  881 s\n",
      "done\n"
     ]
    }
   ],
   "source": [
    "matches = []\n",
    "labels = verbs\n",
    "\n",
    "res = _get_matches.map(range(len(messages)))\n",
    "res.wait_interactive()\n",
    "ans = res.get()\n",
    "\n",
    "matches = ans\n",
    "\"\"\"for i in range(len(messages)):\n",
    "    words = []\n",
    "    for j in range(len(labels)):\n",
    "        if isOnIt(labels[j],messages[i]):\n",
    "            if not str(labels[j]) in words:\n",
    "                words.append(labels[j]) \n",
    "    matches.append(words)\n",
    "\"\"\"\n",
    "\n",
    "clean(matches)"
   ]
  },
  {
   "cell_type": "code",
   "execution_count": null,
   "metadata": {},
   "outputs": [],
   "source": [
    "matches"
   ]
  },
  {
   "cell_type": "code",
   "execution_count": 17,
   "metadata": {},
   "outputs": [],
   "source": [
    "cFile01 = 'COVID-post_enero-julio_FBK-DEF_final.csv'\n",
    "df_messages = pd.read_csv(cFile01, sep=';', error_bad_lines=False, low_memory=False)\n",
    "df_messages['Verbs R2'] = matches\n",
    "df_messages.to_csv(cFile01.replace(\"_EM\",\"_EM_NV\"),sep=\";\",index=False)"
   ]
  },
  {
   "cell_type": "code",
   "execution_count": 18,
   "metadata": {},
   "outputs": [
    {
     "name": "stdout",
     "output_type": "stream",
     "text": [
      "  95/95 tasks finished after   14 s\n",
      "done\n"
     ]
    }
   ],
   "source": [
    "cFile01 = 'COVID-post_enero-julio_IGRAM-DEF_EM.csv'\n",
    "df_messages = pd.read_csv(cFile01, sep=';', error_bad_lines=False, low_memory=False)\n",
    "df_messages['Message'] = df_messages['Message'].fillna('')\n",
    "messages = df_messages['Message'].values\n",
    "\n",
    "ar = dview.push({'messages':messages},block=False)\n",
    "ar.wait_interactive()"
   ]
  },
  {
   "cell_type": "code",
   "execution_count": 19,
   "metadata": {},
   "outputs": [
    {
     "name": "stdout",
     "output_type": "stream",
     "text": [
      "33970/33970 tasks finished after  110 s\n",
      "done\n"
     ]
    }
   ],
   "source": [
    "matches = []\n",
    "labels = verbs\n",
    "\n",
    "res = _get_matches.map(range(len(messages)))\n",
    "res.wait_interactive()\n",
    "ans = res.get()\n",
    "\n",
    "matches = ans\n",
    "\"\"\"for i in range(len(messages)):\n",
    "    words = []\n",
    "    for j in range(len(labels)):\n",
    "        if isOnIt(labels[j],messages[i]):\n",
    "            if not str(labels[j]) in words:\n",
    "                words.append(labels[j]) \n",
    "    matches.append(words)\n",
    "\"\"\"\n",
    "\n",
    "clean(matches)"
   ]
  },
  {
   "cell_type": "code",
   "execution_count": 20,
   "metadata": {},
   "outputs": [],
   "source": [
    "cFile01 = 'COVID-post_enero-julio_IGRAM-DEF_final.csv'\n",
    "df_messages = pd.read_csv(cFile01, sep=';', error_bad_lines=False, low_memory=False)\n",
    "df_messages['Verbs R2'] = matches\n",
    "df_messages.to_csv(cFile01.replace(\"_EM\",\"_EM_NV\"),sep=\";\",index=False)"
   ]
  },
  {
   "cell_type": "code",
   "execution_count": 21,
   "metadata": {},
   "outputs": [
    {
     "name": "stdout",
     "output_type": "stream",
     "text": [
      "  95/95 tasks finished after   38 s\n",
      "done\n"
     ]
    }
   ],
   "source": [
    "cFile01 = 'COVID-post_enero-julio_TWR-DEF_EM.csv'\n",
    "df_messages = pd.read_csv(cFile01, sep=';', error_bad_lines=False, low_memory=False)\n",
    "df_messages['Message'] = df_messages['Message'].fillna('')\n",
    "messages = df_messages['Message'].values\n",
    "\n",
    "ar = dview.push({'messages':messages},block=False)\n",
    "ar.wait_interactive()"
   ]
  },
  {
   "cell_type": "code",
   "execution_count": 22,
   "metadata": {},
   "outputs": [
    {
     "name": "stdout",
     "output_type": "stream",
     "text": [
      "314768/314768 tasks finished after  994 s\n",
      "done\n"
     ]
    }
   ],
   "source": [
    "matches = []\n",
    "labels = verbs\n",
    "\n",
    "res = _get_matches.map(range(len(messages)))\n",
    "res.wait_interactive()\n",
    "ans = res.get()\n",
    "\n",
    "matches = ans\n",
    "\"\"\"for i in range(len(messages)):\n",
    "    words = []\n",
    "    for j in range(len(labels)):\n",
    "        if isOnIt(labels[j],messages[i]):\n",
    "            if not str(labels[j]) in words:\n",
    "                words.append(labels[j]) \n",
    "    matches.append(words)\n",
    "\"\"\"\n",
    "\n",
    "clean(matches)"
   ]
  },
  {
   "cell_type": "code",
   "execution_count": 23,
   "metadata": {},
   "outputs": [],
   "source": [
    "cFile01 = 'COVID-post_enero-julio_TWR-DEF_final.csv'\n",
    "df_messages = pd.read_csv(cFile01, sep=';', error_bad_lines=False, low_memory=False)\n",
    "df_messages['Verbs R2'] = matches\n",
    "df_messages.to_csv(cFile01.replace(\"_EM\",\"_EM_NV\"),sep=\";\",index=False)"
   ]
  },
  {
   "cell_type": "code",
   "execution_count": 24,
   "metadata": {},
   "outputs": [
    {
     "ename": "NameError",
     "evalue": "name 'i' is not defined",
     "output_type": "error",
     "traceback": [
      "\u001b[0;31m---------------------------------------------------------------------------\u001b[0m",
      "\u001b[0;31mNameError\u001b[0m                                 Traceback (most recent call last)",
      "\u001b[0;32m<ipython-input-24-397d543883c5>\u001b[0m in \u001b[0;36m<module>\u001b[0;34m\u001b[0m\n\u001b[0;32m----> 1\u001b[0;31m \u001b[0mi\u001b[0m\u001b[0;34m\u001b[0m\u001b[0;34m\u001b[0m\u001b[0m\n\u001b[0m",
      "\u001b[0;31mNameError\u001b[0m: name 'i' is not defined"
     ]
    }
   ],
   "source": [
    "i"
   ]
  },
  {
   "cell_type": "code",
   "execution_count": null,
   "metadata": {},
   "outputs": [],
   "source": [
    "df_messages['Message'].values[i]"
   ]
  },
  {
   "cell_type": "code",
   "execution_count": null,
   "metadata": {},
   "outputs": [],
   "source": []
  }
 ],
 "metadata": {
  "kernelspec": {
   "display_name": "Python 3",
   "language": "python",
   "name": "python3"
  },
  "language_info": {
   "codemirror_mode": {
    "name": "ipython",
    "version": 3
   },
   "file_extension": ".py",
   "mimetype": "text/x-python",
   "name": "python",
   "nbconvert_exporter": "python",
   "pygments_lexer": "ipython3",
   "version": "3.6.8"
  }
 },
 "nbformat": 4,
 "nbformat_minor": 4
}
