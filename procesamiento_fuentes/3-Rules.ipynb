{
 "cells": [
  {
   "cell_type": "code",
   "execution_count": 1,
   "metadata": {},
   "outputs": [
    {
     "data": {
      "text/plain": [
       "95"
      ]
     },
     "execution_count": 1,
     "metadata": {},
     "output_type": "execute_result"
    }
   ],
   "source": [
    "from ipyparallel import Client\n",
    "rc = Client(profile='pucv-cluster')\n",
    "len(rc)"
   ]
  },
  {
   "cell_type": "code",
   "execution_count": 2,
   "metadata": {},
   "outputs": [],
   "source": [
    "bview = rc.load_balanced_view()\n",
    "dview = rc[:]"
   ]
  },
  {
   "cell_type": "code",
   "execution_count": 3,
   "metadata": {},
   "outputs": [],
   "source": [
    "import csv\n",
    "import pandas as pd\n",
    "import unicodedata\n",
    "import unidecode\n",
    "import re\n",
    "\n",
    "rule3_regex = re.compile(r\"[^\\\"|\\|“|”|\\'|„|“|‚|‘|»|«|」|「|『|』|‹|›|„|‚]\")"
   ]
  },
  {
   "cell_type": "code",
   "execution_count": 4,
   "metadata": {},
   "outputs": [
    {
     "name": "stdout",
     "output_type": "stream",
     "text": [
      "importing re on engine(s)\n"
     ]
    }
   ],
   "source": [
    "with dview.sync_imports():\n",
    "    import re"
   ]
  },
  {
   "cell_type": "code",
   "execution_count": 5,
   "metadata": {},
   "outputs": [],
   "source": [
    "def strip_accents(text):\n",
    "    aux_text = text.replace(\"á\",\"a\")\n",
    "    aux_text = aux_text.replace(\"é\",\"e\")\n",
    "    aux_text = aux_text.replace(\"í\",\"i\")\n",
    "    aux_text = aux_text.replace(\"ó\",\"o\")\n",
    "    aux_text = aux_text.replace(\"ú\",\"u\")\n",
    "    aux_text = aux_text.replace(\"ñ\",\"n\")\n",
    "    \n",
    "    return aux_text\n",
    "\n",
    "def isOnIt(word, sentence, flag_inductive = False):\n",
    "    temp_words = word.upper().split(\" \")\n",
    "    if (len(temp_words ) > 1) and not(flag_inductive):\n",
    "        regex_str = \"\\\\b({}|{})\\\\b\".format(word.upper(),\" \".join(temp_words[1:]))\n",
    "    else:\n",
    "        regex_str = \"\\\\b({})\\\\b\".format(word.upper())\n",
    "    x = re.findall(regex_str,str(sentence).upper())\n",
    "    if x:\n",
    "        return True\n",
    "    else:\n",
    "        return False\n",
    "    \n",
    "    tokens = strip_accents(str(sentence).lower()).upper().split()\n",
    "    \n",
    "    upper_tokens = tokens\n",
    "    \n",
    "    \"\"\"for token in tokens:\n",
    "        upper_tokens.append(token.upper())\"\"\"\n",
    "    \n",
    "    if strip_accents(word).upper() in upper_tokens:\n",
    "        if not str(sentence) in ['nan','--','/','-','?',',','No']:\n",
    "            if str(strip_accents(word).upper()) in upper_tokens:\n",
    "                return True\n",
    "            else: \n",
    "                return False\n",
    "            \n",
    "def rule1(sentence):\n",
    "    return \":\" in str(sentence)\n",
    "\n",
    "def rule2(sentence):\n",
    "    flag = False\n",
    "    sent =  str(sentence)\n",
    "    if ': \\\"' in sent:\n",
    "        flag = True\n",
    "    elif \": \\'\" in sent:\n",
    "        flag = True\n",
    "        \n",
    "    elif ':\\\"' in sent:\n",
    "        flag = True\n",
    "    elif \":\\'\" in sent:\n",
    "        flag = True\n",
    "        \n",
    "    elif \": “\" in sent:\n",
    "        flag = True\n",
    "    elif \":“\" in sent:\n",
    "        flag = True\n",
    "        \n",
    "    elif \": „\" in sent:\n",
    "        flag = True\n",
    "    elif \": „\" in sent:\n",
    "        flag = True\n",
    "        \n",
    "    elif \": ‚\" in sent:\n",
    "        flag = True\n",
    "    elif \":‚\" in sent:\n",
    "        flag = True\n",
    "        \n",
    "    elif \": ‘\" in sent:\n",
    "        flag = True\n",
    "    elif \":‘\" in sent:\n",
    "        flag = True\n",
    "        \n",
    "    elif \": «\" in sent:\n",
    "        flag = True\n",
    "    elif \":«\" in sent:\n",
    "        flag = True\n",
    "    \n",
    "    elif \": 「\" in sent:\n",
    "        flag = True\n",
    "    elif \":「\" in sent:\n",
    "        flag = True\n",
    "    \n",
    "    elif \": 『\" in sent:\n",
    "        flag = True\n",
    "    elif \":『\" in sent:\n",
    "        flag = True\n",
    "    \n",
    "    elif \": ‹\" in sent:\n",
    "        flag = True\n",
    "    elif \":‹\" in sent:\n",
    "        flag = True\n",
    "    \n",
    "    return flag\n",
    "    \n",
    "    \n",
    "\n",
    "def rule3(sentence):\n",
    "    aux_text = rule3_regex.sub(\"\",str(sentence))\n",
    "    return len(aux_text) >= 2\n",
    "\n",
    "def rule4(sentence):\n",
    "    aux_text = rule3_regex.sub(\"\",str(sentence))\n",
    "    return len(aux_text) >= 1"
   ]
  },
  {
   "cell_type": "code",
   "execution_count": 6,
   "metadata": {},
   "outputs": [
    {
     "data": {
      "text/plain": [
       "'Terremoto sacude las costas de Jamaica y Cuba. El sismo tuvo una magnitud de 7.7. Además, Minsal descartó presencia de Coronavirus en Chile tras el estudio a pacientes con síntomas. Y el Presidente Piñera llegó hasta las zonas más afectadas por las lluvias y aluviones en el norte de nuestro país.'"
      ]
     },
     "execution_count": 6,
     "metadata": {},
     "output_type": "execute_result"
    }
   ],
   "source": [
    "test = \"Terremoto sacude las costas de Jamaica y Cuba. El sismo tuvo una magnitud de 7.7. Además, Minsal descartó presencia de Coronavirus en Chile tras el estudio a pacientes con síntomas. Y el Presidente Piñera llegó hasta las zonas más afectadas por las lluvias y aluviones en el norte de nuestro país.\"\n",
    "test"
   ]
  },
  {
   "cell_type": "code",
   "execution_count": 7,
   "metadata": {},
   "outputs": [
    {
     "data": {
      "text/plain": [
       "True"
      ]
     },
     "execution_count": 7,
     "metadata": {},
     "output_type": "execute_result"
    }
   ],
   "source": [
    "isOnIt(\"Sebastián Piñera\",test)"
   ]
  },
  {
   "cell_type": "code",
   "execution_count": 8,
   "metadata": {},
   "outputs": [
    {
     "name": "stdout",
     "output_type": "stream",
     "text": [
      "\n"
     ]
    },
    {
     "data": {
      "text/plain": [
       "True"
      ]
     },
     "execution_count": 8,
     "metadata": {},
     "output_type": "execute_result"
    }
   ],
   "source": [
    "print(\"\")\n",
    "rule1(\"Esto es una prueba: Para ver si detecta los dos puntos Sebastián Piñera\".upper())"
   ]
  },
  {
   "cell_type": "code",
   "execution_count": 9,
   "metadata": {},
   "outputs": [
    {
     "data": {
      "text/plain": [
       "False"
      ]
     },
     "execution_count": 9,
     "metadata": {},
     "output_type": "execute_result"
    }
   ],
   "source": [
    "rule2(\"Esto es una prueba: Para ver si detecta los dos puntos\")"
   ]
  },
  {
   "cell_type": "code",
   "execution_count": 10,
   "metadata": {},
   "outputs": [
    {
     "data": {
      "text/plain": [
       "True"
      ]
     },
     "execution_count": 10,
     "metadata": {},
     "output_type": "execute_result"
    }
   ],
   "source": [
    "rule2(\"Esto es una prueba: 'Para ver si detecta los dos puntos'\")"
   ]
  },
  {
   "cell_type": "code",
   "execution_count": 11,
   "metadata": {},
   "outputs": [
    {
     "data": {
      "text/plain": [
       "True"
      ]
     },
     "execution_count": 11,
     "metadata": {},
     "output_type": "execute_result"
    }
   ],
   "source": [
    "rule3(\"Esto es una prueba: 'Para ver si detecta los dos puntos'\")"
   ]
  },
  {
   "cell_type": "code",
   "execution_count": 12,
   "metadata": {},
   "outputs": [
    {
     "name": "stdout",
     "output_type": "stream",
     "text": [
      "<class 'pandas.core.frame.DataFrame'>\n",
      "RangeIndex: 304002 entries, 0 to 304001\n",
      "Data columns (total 9 columns):\n",
      "Date                304002 non-null object\n",
      "Country             304002 non-null object\n",
      "MediaOutlet         304002 non-null object\n",
      "MediaOrigin         304002 non-null object\n",
      "Message             296906 non-null object\n",
      "LinkText            293995 non-null object\n",
      "Verbs R2            88573 non-null object\n",
      "Actors R1           128441 non-null object\n",
      "Actors R1 - Type    128455 non-null object\n",
      "dtypes: object(9)\n",
      "memory usage: 20.9+ MB\n",
      "None\n"
     ]
    },
    {
     "data": {
      "text/html": [
       "<div>\n",
       "<style scoped>\n",
       "    .dataframe tbody tr th:only-of-type {\n",
       "        vertical-align: middle;\n",
       "    }\n",
       "\n",
       "    .dataframe tbody tr th {\n",
       "        vertical-align: top;\n",
       "    }\n",
       "\n",
       "    .dataframe thead th {\n",
       "        text-align: right;\n",
       "    }\n",
       "</style>\n",
       "<table border=\"1\" class=\"dataframe\">\n",
       "  <thead>\n",
       "    <tr style=\"text-align: right;\">\n",
       "      <th></th>\n",
       "      <th>Date</th>\n",
       "      <th>Country</th>\n",
       "      <th>MediaOutlet</th>\n",
       "      <th>MediaOrigin</th>\n",
       "      <th>Message</th>\n",
       "      <th>LinkText</th>\n",
       "      <th>Verbs R2</th>\n",
       "      <th>Actors R1</th>\n",
       "      <th>Actors R1 - Type</th>\n",
       "    </tr>\n",
       "  </thead>\n",
       "  <tbody>\n",
       "    <tr>\n",
       "      <th>0</th>\n",
       "      <td>Jan 2, 2020 @ 19:19:38.000</td>\n",
       "      <td>United States</td>\n",
       "      <td>Los Angeles Times</td>\n",
       "      <td>Print</td>\n",
       "      <td>The Trump administration has announced a tempo...</td>\n",
       "      <td>Trump administration imposed ban on some, but ...</td>\n",
       "      <td>announced</td>\n",
       "      <td>Trump</td>\n",
       "      <td>Political and Partisian Source</td>\n",
       "    </tr>\n",
       "    <tr>\n",
       "      <th>1</th>\n",
       "      <td>Jan 2, 2020 @ 22:39:39.000</td>\n",
       "      <td>United States</td>\n",
       "      <td>CBS US</td>\n",
       "      <td>Radio</td>\n",
       "      <td>The U.S. faces an epidemic of cyberattacks, wi...</td>\n",
       "      <td>Ransomware attack shuts down some Michigan sch...</td>\n",
       "      <td>NaN</td>\n",
       "      <td>NaN</td>\n",
       "      <td>NaN</td>\n",
       "    </tr>\n",
       "    <tr>\n",
       "      <th>2</th>\n",
       "      <td>Jan 3, 2020 @ 01:40:00.000</td>\n",
       "      <td>United States</td>\n",
       "      <td>Los Angeles Times</td>\n",
       "      <td>Print</td>\n",
       "      <td>California has expanded a quarantine zone in S...</td>\n",
       "      <td>California expands local quarantine to halt ci...</td>\n",
       "      <td>state</td>\n",
       "      <td>NaN</td>\n",
       "      <td>NaN</td>\n",
       "    </tr>\n",
       "    <tr>\n",
       "      <th>3</th>\n",
       "      <td>Jan 3, 2020 @ 08:16:13.000</td>\n",
       "      <td>Spain</td>\n",
       "      <td>24hTVE</td>\n",
       "      <td>TV</td>\n",
       "      <td>La decisión, que entrará en vigor en 30 días, ...</td>\n",
       "      <td>Prohíben en Estados Unidos los cartuchos para ...</td>\n",
       "      <td>NaN</td>\n",
       "      <td>Donald Trump,Trump</td>\n",
       "      <td>Political and Partisian Source,Political and P...</td>\n",
       "    </tr>\n",
       "    <tr>\n",
       "      <th>4</th>\n",
       "      <td>Jan 3, 2020 @ 14:40:00.000</td>\n",
       "      <td>Chile</td>\n",
       "      <td>Elmostrador.cl</td>\n",
       "      <td>Online</td>\n",
       "      <td>CULTURA| La escasez hídrica producto del cambi...</td>\n",
       "      <td>Académica chilena en Nature: Más inversión en ...</td>\n",
       "      <td>NaN</td>\n",
       "      <td>NaN</td>\n",
       "      <td>NaN</td>\n",
       "    </tr>\n",
       "  </tbody>\n",
       "</table>\n",
       "</div>"
      ],
      "text/plain": [
       "                         Date        Country        MediaOutlet MediaOrigin  \\\n",
       "0  Jan 2, 2020 @ 19:19:38.000  United States  Los Angeles Times       Print   \n",
       "1  Jan 2, 2020 @ 22:39:39.000  United States             CBS US       Radio   \n",
       "2  Jan 3, 2020 @ 01:40:00.000  United States  Los Angeles Times       Print   \n",
       "3  Jan 3, 2020 @ 08:16:13.000          Spain             24hTVE          TV   \n",
       "4  Jan 3, 2020 @ 14:40:00.000          Chile     Elmostrador.cl      Online   \n",
       "\n",
       "                                             Message  \\\n",
       "0  The Trump administration has announced a tempo...   \n",
       "1  The U.S. faces an epidemic of cyberattacks, wi...   \n",
       "2  California has expanded a quarantine zone in S...   \n",
       "3  La decisión, que entrará en vigor en 30 días, ...   \n",
       "4  CULTURA| La escasez hídrica producto del cambi...   \n",
       "\n",
       "                                            LinkText   Verbs R2  \\\n",
       "0  Trump administration imposed ban on some, but ...  announced   \n",
       "1  Ransomware attack shuts down some Michigan sch...        NaN   \n",
       "2  California expands local quarantine to halt ci...      state   \n",
       "3  Prohíben en Estados Unidos los cartuchos para ...        NaN   \n",
       "4  Académica chilena en Nature: Más inversión en ...        NaN   \n",
       "\n",
       "            Actors R1                                   Actors R1 - Type  \n",
       "0               Trump                     Political and Partisian Source  \n",
       "1                 NaN                                                NaN  \n",
       "2                 NaN                                                NaN  \n",
       "3  Donald Trump,Trump  Political and Partisian Source,Political and P...  \n",
       "4                 NaN                                                NaN  "
      ]
     },
     "execution_count": 12,
     "metadata": {},
     "output_type": "execute_result"
    }
   ],
   "source": [
    "cFile01 = 'COVID-post_enero-julio_FBK-DEF_final.csv'\n",
    "total_actores = []\n",
    "total_tipos = []\n",
    "df_test = pd.read_csv(cFile01, sep=';', low_memory=False,encoding='utf-8-sig')\n",
    "print(df_test.info())\n",
    "\n",
    "df_test.head()"
   ]
  },
  {
   "cell_type": "code",
   "execution_count": 13,
   "metadata": {},
   "outputs": [],
   "source": [
    "total_rules1 = []\n",
    "total_rules2 = []\n",
    "total_rules3 = []\n",
    "total_rules4 = []\n",
    "msgs = df_test['Message'].values\n",
    "for i in (range(len(msgs))):\n",
    "    total_rules1.append(rule1(msgs[i]))\n",
    "    total_rules2.append(rule2(msgs[i]))\n",
    "    total_rules3.append(rule3(msgs[i]))\n",
    "    total_rules4.append(rule4(msgs[i]))\n",
    "    \n",
    "#total_rules1\n",
    "df_test[\"rule 1\"] = pd.Series(total_rules1)\n",
    "df_test[\"rule 2\"] = pd.Series(total_rules2)\n",
    "df_test[\"rule 3\"] = pd.Series(total_rules3)\n",
    "df_test[\"rule 4\"] = pd.Series(total_rules4)"
   ]
  },
  {
   "cell_type": "code",
   "execution_count": 14,
   "metadata": {},
   "outputs": [],
   "source": [
    "df_test.to_csv(cFile01.replace(\"EM_NV_NEW\",\"EM_NV_RULES\"),sep=\";\",index=False,encoding='utf-8-sig')"
   ]
  },
  {
   "cell_type": "code",
   "execution_count": null,
   "metadata": {},
   "outputs": [],
   "source": []
  },
  {
   "cell_type": "code",
   "execution_count": 15,
   "metadata": {},
   "outputs": [
    {
     "name": "stdout",
     "output_type": "stream",
     "text": [
      "<class 'pandas.core.frame.DataFrame'>\n",
      "RangeIndex: 33970 entries, 0 to 33969\n",
      "Data columns (total 9 columns):\n",
      "Date                33970 non-null object\n",
      "Country             33970 non-null object\n",
      "MediaOutlet         33970 non-null object\n",
      "MediaOrigin         33970 non-null object\n",
      "Message             33967 non-null object\n",
      "ImageText           10456 non-null object\n",
      "Verbs R2            18327 non-null object\n",
      "Actors R1           22870 non-null object\n",
      "Actors R1 - Type    22870 non-null object\n",
      "dtypes: object(9)\n",
      "memory usage: 2.3+ MB\n",
      "None\n"
     ]
    },
    {
     "data": {
      "text/html": [
       "<div>\n",
       "<style scoped>\n",
       "    .dataframe tbody tr th:only-of-type {\n",
       "        vertical-align: middle;\n",
       "    }\n",
       "\n",
       "    .dataframe tbody tr th {\n",
       "        vertical-align: top;\n",
       "    }\n",
       "\n",
       "    .dataframe thead th {\n",
       "        text-align: right;\n",
       "    }\n",
       "</style>\n",
       "<table border=\"1\" class=\"dataframe\">\n",
       "  <thead>\n",
       "    <tr style=\"text-align: right;\">\n",
       "      <th></th>\n",
       "      <th>Date</th>\n",
       "      <th>Country</th>\n",
       "      <th>MediaOutlet</th>\n",
       "      <th>MediaOrigin</th>\n",
       "      <th>Message</th>\n",
       "      <th>ImageText</th>\n",
       "      <th>Verbs R2</th>\n",
       "      <th>Actors R1</th>\n",
       "      <th>Actors R1 - Type</th>\n",
       "    </tr>\n",
       "  </thead>\n",
       "  <tbody>\n",
       "    <tr>\n",
       "      <th>0</th>\n",
       "      <td>Jan 2, 2020 @ 17:36:00.000</td>\n",
       "      <td>United States</td>\n",
       "      <td>Los Angeles Times</td>\n",
       "      <td>Print</td>\n",
       "      <td>The Trump administration announced a temporary...</td>\n",
       "      <td>NaN</td>\n",
       "      <td>announced</td>\n",
       "      <td>White House,Trump</td>\n",
       "      <td>Political and Partisian Source,Political and P...</td>\n",
       "    </tr>\n",
       "    <tr>\n",
       "      <th>1</th>\n",
       "      <td>Jan 8, 2020 @ 12:15:00.000</td>\n",
       "      <td>United States</td>\n",
       "      <td>Los Angeles Times</td>\n",
       "      <td>Print</td>\n",
       "      <td>An estimated 46,000 Haitians reside in the U.S...</td>\n",
       "      <td>NaN</td>\n",
       "      <td>estimated</td>\n",
       "      <td>NaN</td>\n",
       "      <td>NaN</td>\n",
       "    </tr>\n",
       "    <tr>\n",
       "      <th>2</th>\n",
       "      <td>Jan 12, 2020 @ 08:44:00.000</td>\n",
       "      <td>United Kingdom</td>\n",
       "      <td>Sky News</td>\n",
       "      <td>TV</td>\n",
       "      <td>Knife crime offences are at a record high but ...</td>\n",
       "      <td>NaN</td>\n",
       "      <td>said,spoke</td>\n",
       "      <td>NaN</td>\n",
       "      <td>NaN</td>\n",
       "    </tr>\n",
       "    <tr>\n",
       "      <th>3</th>\n",
       "      <td>Jan 13, 2020 @ 14:02:37.000</td>\n",
       "      <td>Chile</td>\n",
       "      <td>Mega</td>\n",
       "      <td>TV</td>\n",
       "      <td>La Organización Mundial de la Salud #OMS y las...</td>\n",
       "      <td>Nuevo virus logra salir de China y se registra...</td>\n",
       "      <td>Según el,anunciaron</td>\n",
       "      <td>autoridades,Wuhan,familia,Organización Mundial...</td>\n",
       "      <td>Political and Partisian Source,Political and P...</td>\n",
       "    </tr>\n",
       "    <tr>\n",
       "      <th>4</th>\n",
       "      <td>Jan 13, 2020 @ 19:52:08.000</td>\n",
       "      <td>Chile</td>\n",
       "      <td>Canal 13</td>\n",
       "      <td>TV</td>\n",
       "      <td>Una de las expositoras más esperadas del #Cong...</td>\n",
       "      <td>CONGRESO T13 \"Está documentado que los hombres...</td>\n",
       "      <td>expuso</td>\n",
       "      <td>Escritora</td>\n",
       "      <td>Performer-Artist or Celebrity Source</td>\n",
       "    </tr>\n",
       "  </tbody>\n",
       "</table>\n",
       "</div>"
      ],
      "text/plain": [
       "                          Date         Country        MediaOutlet MediaOrigin  \\\n",
       "0   Jan 2, 2020 @ 17:36:00.000   United States  Los Angeles Times       Print   \n",
       "1   Jan 8, 2020 @ 12:15:00.000   United States  Los Angeles Times       Print   \n",
       "2  Jan 12, 2020 @ 08:44:00.000  United Kingdom           Sky News          TV   \n",
       "3  Jan 13, 2020 @ 14:02:37.000           Chile               Mega          TV   \n",
       "4  Jan 13, 2020 @ 19:52:08.000           Chile           Canal 13          TV   \n",
       "\n",
       "                                             Message  \\\n",
       "0  The Trump administration announced a temporary...   \n",
       "1  An estimated 46,000 Haitians reside in the U.S...   \n",
       "2  Knife crime offences are at a record high but ...   \n",
       "3  La Organización Mundial de la Salud #OMS y las...   \n",
       "4  Una de las expositoras más esperadas del #Cong...   \n",
       "\n",
       "                                           ImageText             Verbs R2  \\\n",
       "0                                                NaN            announced   \n",
       "1                                                NaN            estimated   \n",
       "2                                                NaN           said,spoke   \n",
       "3  Nuevo virus logra salir de China y se registra...  Según el,anunciaron   \n",
       "4  CONGRESO T13 \"Está documentado que los hombres...               expuso   \n",
       "\n",
       "                                           Actors R1  \\\n",
       "0                                  White House,Trump   \n",
       "1                                                NaN   \n",
       "2                                                NaN   \n",
       "3  autoridades,Wuhan,familia,Organización Mundial...   \n",
       "4                                          Escritora   \n",
       "\n",
       "                                    Actors R1 - Type  \n",
       "0  Political and Partisian Source,Political and P...  \n",
       "1                                                NaN  \n",
       "2                                                NaN  \n",
       "3  Political and Partisian Source,Political and P...  \n",
       "4               Performer-Artist or Celebrity Source  "
      ]
     },
     "execution_count": 15,
     "metadata": {},
     "output_type": "execute_result"
    }
   ],
   "source": [
    "cFile01 = 'COVID-post_enero-julio_IGRAM-DEF_final.csv'\n",
    "total_actores = []\n",
    "total_tipos = []\n",
    "df_test = pd.read_csv(cFile01, sep=';', low_memory=False,encoding='utf-8-sig')\n",
    "print(df_test.info())\n",
    "\n",
    "df_test.head()"
   ]
  },
  {
   "cell_type": "code",
   "execution_count": 16,
   "metadata": {},
   "outputs": [],
   "source": [
    "total_rules1 = []\n",
    "total_rules2 = []\n",
    "total_rules3 = []\n",
    "total_rules4 = []\n",
    "msgs = df_test['Message'].values\n",
    "for i in (range(len(msgs))):\n",
    "    total_rules1.append(rule1(msgs[i]))\n",
    "    total_rules2.append(rule2(msgs[i]))\n",
    "    total_rules3.append(rule3(msgs[i]))\n",
    "    total_rules4.append(rule4(msgs[i]))\n",
    "    \n",
    "#total_rules1\n",
    "df_test[\"rule 1\"] = pd.Series(total_rules1)\n",
    "df_test[\"rule 2\"] = pd.Series(total_rules2)\n",
    "df_test[\"rule 3\"] = pd.Series(total_rules3)\n",
    "df_test[\"rule 4\"] = pd.Series(total_rules4)"
   ]
  },
  {
   "cell_type": "code",
   "execution_count": 17,
   "metadata": {},
   "outputs": [],
   "source": [
    "df_test.to_csv(cFile01.replace(\"EM_NV_NEW\",\"EM_NV_RULES\"),sep=\";\",index=False,encoding='utf-8-sig')"
   ]
  },
  {
   "cell_type": "code",
   "execution_count": null,
   "metadata": {},
   "outputs": [],
   "source": []
  },
  {
   "cell_type": "code",
   "execution_count": 18,
   "metadata": {},
   "outputs": [
    {
     "name": "stdout",
     "output_type": "stream",
     "text": [
      "<class 'pandas.core.frame.DataFrame'>\n",
      "RangeIndex: 314768 entries, 0 to 314767\n",
      "Data columns (total 8 columns):\n",
      "Date                314768 non-null object\n",
      "Country             314768 non-null object\n",
      "MediaOutlet         314768 non-null object\n",
      "MediaOrigin         314768 non-null object\n",
      "Message             314768 non-null object\n",
      "Verbs R2            78222 non-null object\n",
      "Actors R1           119771 non-null object\n",
      "Actors R1 - Type    119773 non-null object\n",
      "dtypes: object(8)\n",
      "memory usage: 19.2+ MB\n",
      "None\n"
     ]
    },
    {
     "data": {
      "text/html": [
       "<div>\n",
       "<style scoped>\n",
       "    .dataframe tbody tr th:only-of-type {\n",
       "        vertical-align: middle;\n",
       "    }\n",
       "\n",
       "    .dataframe tbody tr th {\n",
       "        vertical-align: top;\n",
       "    }\n",
       "\n",
       "    .dataframe thead th {\n",
       "        text-align: right;\n",
       "    }\n",
       "</style>\n",
       "<table border=\"1\" class=\"dataframe\">\n",
       "  <thead>\n",
       "    <tr style=\"text-align: right;\">\n",
       "      <th></th>\n",
       "      <th>Date</th>\n",
       "      <th>Country</th>\n",
       "      <th>MediaOutlet</th>\n",
       "      <th>MediaOrigin</th>\n",
       "      <th>Message</th>\n",
       "      <th>Verbs R2</th>\n",
       "      <th>Actors R1</th>\n",
       "      <th>Actors R1 - Type</th>\n",
       "    </tr>\n",
       "  </thead>\n",
       "  <tbody>\n",
       "    <tr>\n",
       "      <th>0</th>\n",
       "      <td>Aug 1, 2020 @ 15:32:45.000</td>\n",
       "      <td>Spain</td>\n",
       "      <td>Huffpost ES</td>\n",
       "      <td>Online</td>\n",
       "      <td>Madrid, la gran ciudad europea con mayor exces...</td>\n",
       "      <td>NaN</td>\n",
       "      <td>NaN</td>\n",
       "      <td>NaN</td>\n",
       "    </tr>\n",
       "    <tr>\n",
       "      <th>1</th>\n",
       "      <td>Aug 1, 2020 @ 14:04:00.000</td>\n",
       "      <td>Spain</td>\n",
       "      <td>Huffpost ES</td>\n",
       "      <td>Online</td>\n",
       "      <td>Rifirrafe entre Fauci, el 'Fernando Simón de E...</td>\n",
       "      <td>NaN</td>\n",
       "      <td>Fernando Simón</td>\n",
       "      <td>Political and Partisian Source</td>\n",
       "    </tr>\n",
       "    <tr>\n",
       "      <th>2</th>\n",
       "      <td>Aug 1, 2020 @ 12:43:39.000</td>\n",
       "      <td>Spain</td>\n",
       "      <td>Huffpost ES</td>\n",
       "      <td>Online</td>\n",
       "      <td>El esperanzador mensaje de una investigadora e...</td>\n",
       "      <td>NaN</td>\n",
       "      <td>NaN</td>\n",
       "      <td>NaN</td>\n",
       "    </tr>\n",
       "    <tr>\n",
       "      <th>3</th>\n",
       "      <td>Aug 1, 2020 @ 11:34:04.000</td>\n",
       "      <td>Germany</td>\n",
       "      <td>BILD</td>\n",
       "      <td>Print</td>\n",
       "      <td>Coronavirus-News im Live-Ticker - Demonstrante...</td>\n",
       "      <td>NaN</td>\n",
       "      <td>NaN</td>\n",
       "      <td>NaN</td>\n",
       "    </tr>\n",
       "    <tr>\n",
       "      <th>4</th>\n",
       "      <td>Aug 1, 2020 @ 10:54:34.000</td>\n",
       "      <td>Germany</td>\n",
       "      <td>BILD</td>\n",
       "      <td>Print</td>\n",
       "      <td>„Keine Touristen in Quarantäne-Hotel“ - Hotelb...</td>\n",
       "      <td>NaN</td>\n",
       "      <td>NaN</td>\n",
       "      <td>NaN</td>\n",
       "    </tr>\n",
       "  </tbody>\n",
       "</table>\n",
       "</div>"
      ],
      "text/plain": [
       "                         Date  Country  MediaOutlet MediaOrigin  \\\n",
       "0  Aug 1, 2020 @ 15:32:45.000    Spain  Huffpost ES      Online   \n",
       "1  Aug 1, 2020 @ 14:04:00.000    Spain  Huffpost ES      Online   \n",
       "2  Aug 1, 2020 @ 12:43:39.000    Spain  Huffpost ES      Online   \n",
       "3  Aug 1, 2020 @ 11:34:04.000  Germany         BILD       Print   \n",
       "4  Aug 1, 2020 @ 10:54:34.000  Germany         BILD       Print   \n",
       "\n",
       "                                             Message Verbs R2       Actors R1  \\\n",
       "0  Madrid, la gran ciudad europea con mayor exces...      NaN             NaN   \n",
       "1  Rifirrafe entre Fauci, el 'Fernando Simón de E...      NaN  Fernando Simón   \n",
       "2  El esperanzador mensaje de una investigadora e...      NaN             NaN   \n",
       "3  Coronavirus-News im Live-Ticker - Demonstrante...      NaN             NaN   \n",
       "4  „Keine Touristen in Quarantäne-Hotel“ - Hotelb...      NaN             NaN   \n",
       "\n",
       "                 Actors R1 - Type  \n",
       "0                             NaN  \n",
       "1  Political and Partisian Source  \n",
       "2                             NaN  \n",
       "3                             NaN  \n",
       "4                             NaN  "
      ]
     },
     "execution_count": 18,
     "metadata": {},
     "output_type": "execute_result"
    }
   ],
   "source": [
    "cFile01 = 'COVID-post_enero-julio_TWR-DEF_final.csv'\n",
    "total_actores = []\n",
    "total_tipos = []\n",
    "df_test = pd.read_csv(cFile01, sep=';', low_memory=False,encoding='utf-8-sig')\n",
    "print(df_test.info())\n",
    "\n",
    "df_test.head()"
   ]
  },
  {
   "cell_type": "code",
   "execution_count": 19,
   "metadata": {},
   "outputs": [],
   "source": [
    "total_rules1 = []\n",
    "total_rules2 = []\n",
    "total_rules3 = []\n",
    "total_rules4 = []\n",
    "msgs = df_test['Message'].values\n",
    "for i in (range(len(msgs))):\n",
    "    total_rules1.append(rule1(msgs[i]))\n",
    "    total_rules2.append(rule2(msgs[i]))\n",
    "    total_rules3.append(rule3(msgs[i]))\n",
    "    total_rules4.append(rule4(msgs[i]))\n",
    "    \n",
    "#total_rules1\n",
    "df_test[\"rule 1\"] = pd.Series(total_rules1)\n",
    "df_test[\"rule 2\"] = pd.Series(total_rules2)\n",
    "df_test[\"rule 3\"] = pd.Series(total_rules3)\n",
    "df_test[\"rule 4\"] = pd.Series(total_rules4)"
   ]
  },
  {
   "cell_type": "code",
   "execution_count": 20,
   "metadata": {},
   "outputs": [],
   "source": [
    "df_test.to_csv(cFile01.replace(\"EM_NV_NEW\",\"EM_NV_RULES\"),sep=\";\",index=False,encoding='utf-8-sig')"
   ]
  },
  {
   "cell_type": "code",
   "execution_count": null,
   "metadata": {},
   "outputs": [],
   "source": []
  },
  {
   "cell_type": "code",
   "execution_count": null,
   "metadata": {},
   "outputs": [],
   "source": []
  },
  {
   "cell_type": "code",
   "execution_count": null,
   "metadata": {},
   "outputs": [],
   "source": []
  }
 ],
 "metadata": {
  "kernelspec": {
   "display_name": "Python 3",
   "language": "python",
   "name": "python3"
  },
  "language_info": {
   "codemirror_mode": {
    "name": "ipython",
    "version": 3
   },
   "file_extension": ".py",
   "mimetype": "text/x-python",
   "name": "python",
   "nbconvert_exporter": "python",
   "pygments_lexer": "ipython3",
   "version": "3.6.8"
  }
 },
 "nbformat": 4,
 "nbformat_minor": 4
}
