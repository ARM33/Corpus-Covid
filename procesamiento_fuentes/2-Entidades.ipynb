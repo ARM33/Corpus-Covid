{
 "cells": [
  {
   "cell_type": "code",
   "execution_count": 1,
   "metadata": {},
   "outputs": [
    {
     "data": {
      "text/plain": [
       "95"
      ]
     },
     "execution_count": 1,
     "metadata": {},
     "output_type": "execute_result"
    }
   ],
   "source": [
    "from ipyparallel import Client\n",
    "rc = Client(profile='pucv-cluster')\n",
    "len(rc)"
   ]
  },
  {
   "cell_type": "code",
   "execution_count": 2,
   "metadata": {},
   "outputs": [],
   "source": [
    "bview = rc.load_balanced_view()\n",
    "dview = rc[:]"
   ]
  },
  {
   "cell_type": "code",
   "execution_count": 3,
   "metadata": {},
   "outputs": [],
   "source": [
    "import csv\n",
    "import pandas as pd"
   ]
  },
  {
   "cell_type": "code",
   "execution_count": 4,
   "metadata": {},
   "outputs": [],
   "source": [
    "import time"
   ]
  },
  {
   "cell_type": "code",
   "execution_count": 5,
   "metadata": {},
   "outputs": [],
   "source": [
    "time.sleep(int(3600 *1.5))"
   ]
  },
  {
   "cell_type": "code",
   "execution_count": 6,
   "metadata": {},
   "outputs": [
    {
     "data": {
      "text/html": [
       "<div>\n",
       "<style scoped>\n",
       "    .dataframe tbody tr th:only-of-type {\n",
       "        vertical-align: middle;\n",
       "    }\n",
       "\n",
       "    .dataframe tbody tr th {\n",
       "        vertical-align: top;\n",
       "    }\n",
       "\n",
       "    .dataframe thead th {\n",
       "        text-align: right;\n",
       "    }\n",
       "</style>\n",
       "<table border=\"1\" class=\"dataframe\">\n",
       "  <thead>\n",
       "    <tr style=\"text-align: right;\">\n",
       "      <th></th>\n",
       "      <th>Entidad</th>\n",
       "      <th>Cargo Específico</th>\n",
       "      <th>Tipo de Fuentes MacroCat</th>\n",
       "      <th>Tipo de Fuente MicroCat</th>\n",
       "      <th>País</th>\n",
       "      <th>Lengua</th>\n",
       "      <th>Deductivo o Inductivo</th>\n",
       "    </tr>\n",
       "  </thead>\n",
       "  <tbody>\n",
       "    <tr>\n",
       "      <th>0</th>\n",
       "      <td>ACHET</td>\n",
       "      <td>Asociación de empresarios</td>\n",
       "      <td>Business Source</td>\n",
       "      <td>Asociación de empresarios</td>\n",
       "      <td>Chile</td>\n",
       "      <td>Spanish</td>\n",
       "      <td>Deductivo</td>\n",
       "    </tr>\n",
       "    <tr>\n",
       "      <th>1</th>\n",
       "      <td>AEF</td>\n",
       "      <td>Asociación de empresarios</td>\n",
       "      <td>Business Source</td>\n",
       "      <td>Asociación de empresarios</td>\n",
       "      <td>Chile</td>\n",
       "      <td>Spanish</td>\n",
       "      <td>Deductivo</td>\n",
       "    </tr>\n",
       "    <tr>\n",
       "      <th>2</th>\n",
       "      <td>Apyme Chile</td>\n",
       "      <td>Asociación de empresarios</td>\n",
       "      <td>Business Source</td>\n",
       "      <td>Asociación de empresarios</td>\n",
       "      <td>Chile</td>\n",
       "      <td>Spanish</td>\n",
       "      <td>Deductivo</td>\n",
       "    </tr>\n",
       "    <tr>\n",
       "      <th>3</th>\n",
       "      <td>Asociación de emprendedores</td>\n",
       "      <td>Asociación de empresarios</td>\n",
       "      <td>Business Source</td>\n",
       "      <td>Asociación de empresarios</td>\n",
       "      <td>Chile</td>\n",
       "      <td>Spanish</td>\n",
       "      <td>Deductivo</td>\n",
       "    </tr>\n",
       "    <tr>\n",
       "      <th>4</th>\n",
       "      <td>Asech</td>\n",
       "      <td>Asociación de empresarios</td>\n",
       "      <td>Business Source</td>\n",
       "      <td>Asociación de empresarios</td>\n",
       "      <td>Chile</td>\n",
       "      <td>Spanish</td>\n",
       "      <td>Deductivo</td>\n",
       "    </tr>\n",
       "  </tbody>\n",
       "</table>\n",
       "</div>"
      ],
      "text/plain": [
       "                       Entidad           Cargo Específico  \\\n",
       "0                        ACHET  Asociación de empresarios   \n",
       "1                          AEF  Asociación de empresarios   \n",
       "2                  Apyme Chile  Asociación de empresarios   \n",
       "3  Asociación de emprendedores  Asociación de empresarios   \n",
       "4                        Asech  Asociación de empresarios   \n",
       "\n",
       "  Tipo de Fuentes MacroCat    Tipo de Fuente MicroCat   País   Lengua  \\\n",
       "0          Business Source  Asociación de empresarios  Chile  Spanish   \n",
       "1          Business Source  Asociación de empresarios  Chile  Spanish   \n",
       "2          Business Source  Asociación de empresarios  Chile  Spanish   \n",
       "3          Business Source  Asociación de empresarios  Chile  Spanish   \n",
       "4          Business Source  Asociación de empresarios  Chile  Spanish   \n",
       "\n",
       "  Deductivo o Inductivo  \n",
       "0             Deductivo  \n",
       "1             Deductivo  \n",
       "2             Deductivo  \n",
       "3             Deductivo  \n",
       "4             Deductivo  "
      ]
     },
     "execution_count": 6,
     "metadata": {},
     "output_type": "execute_result"
    }
   ],
   "source": [
    "fdeductiva = 'Fuentes_consolidadas(2).xlsx'\n",
    "df_dentidad = pd.read_excel(fdeductiva)\n",
    "df_dentidad.Entidad = df_dentidad.Entidad.fillna('')\n",
    "df_dentidad.Entidad = df_dentidad.Entidad.str.replace(r\" $\",\"\")\n",
    "df_dentidad['Tipo de Fuentes MacroCat'] = df_dentidad['Tipo de Fuentes MacroCat'].fillna('')\n",
    "df_dentidad.head()"
   ]
  },
  {
   "cell_type": "code",
   "execution_count": null,
   "metadata": {},
   "outputs": [],
   "source": [
    "\n"
   ]
  },
  {
   "cell_type": "code",
   "execution_count": 7,
   "metadata": {},
   "outputs": [],
   "source": [
    "df_dentidad.País = df_dentidad.País.str.replace(\"Korea\", \"South Korea\").str.replace(\"South Korean\", \"South Korea\")"
   ]
  },
  {
   "cell_type": "code",
   "execution_count": 8,
   "metadata": {},
   "outputs": [
    {
     "data": {
      "text/plain": [
       "Chile             929\n",
       "United Kingdom    528\n",
       "Mexico            468\n",
       "Spain             393\n",
       "United States     359\n",
       "Brazil            346\n",
       "South Korea       311\n",
       "Japan             250\n",
       "Germany           236\n",
       "TODOS             141\n",
       "Name: País, dtype: int64"
      ]
     },
     "execution_count": 8,
     "metadata": {},
     "output_type": "execute_result"
    }
   ],
   "source": [
    "df_dentidad.País.value_counts()"
   ]
  },
  {
   "cell_type": "code",
   "execution_count": 9,
   "metadata": {},
   "outputs": [],
   "source": [
    "country_dfs = {}"
   ]
  },
  {
   "cell_type": "code",
   "execution_count": 10,
   "metadata": {},
   "outputs": [
    {
     "name": "stdout",
     "output_type": "stream",
     "text": [
      "Chile False\n",
      "Mexico False\n",
      "Spain False\n",
      "United States False\n",
      "Brazil False\n",
      "United Kingdom False\n",
      "Germany False\n",
      "South Korea False\n",
      "Japan False\n",
      "TODOS False\n"
     ]
    }
   ],
   "source": [
    "\n",
    "for el in df_dentidad.País.unique():\n",
    "    print(str(el), str(el) == 'nan')\n",
    "    if str(el) in 'nan':\n",
    "        continue\n",
    "    country_dfs[el] = df_dentidad[df_dentidad['País'] == el]\n",
    "    "
   ]
  },
  {
   "cell_type": "code",
   "execution_count": 11,
   "metadata": {},
   "outputs": [
    {
     "data": {
      "text/plain": [
       "dict_keys(['Chile', 'Mexico', 'Spain', 'United States', 'Brazil', 'United Kingdom', 'Germany', 'South Korea', 'Japan', 'TODOS'])"
      ]
     },
     "execution_count": 11,
     "metadata": {},
     "output_type": "execute_result"
    }
   ],
   "source": [
    "country_dfs.keys()"
   ]
  },
  {
   "cell_type": "code",
   "execution_count": 12,
   "metadata": {},
   "outputs": [
    {
     "data": {
      "text/plain": [
       "False"
      ]
     },
     "execution_count": 12,
     "metadata": {},
     "output_type": "execute_result"
    }
   ],
   "source": [
    "'dem' in ['epidemic']"
   ]
  },
  {
   "cell_type": "code",
   "execution_count": 13,
   "metadata": {},
   "outputs": [
    {
     "data": {
      "text/plain": [
       "False"
      ]
     },
     "execution_count": 13,
     "metadata": {},
     "output_type": "execute_result"
    }
   ],
   "source": [
    "'dem' in 'this is an epidemic'.split()"
   ]
  },
  {
   "cell_type": "code",
   "execution_count": 14,
   "metadata": {},
   "outputs": [
    {
     "name": "stdout",
     "output_type": "stream",
     "text": [
      "<class 'pandas.core.frame.DataFrame'>\n",
      "RangeIndex: 3961 entries, 0 to 3960\n",
      "Data columns (total 7 columns):\n",
      "Entidad                     3961 non-null object\n",
      "Cargo Específico            2222 non-null object\n",
      "Tipo de Fuentes MacroCat    3961 non-null object\n",
      "Tipo de Fuente MicroCat     2390 non-null object\n",
      "País                        3961 non-null object\n",
      "Lengua                      3823 non-null object\n",
      "Deductivo o Inductivo       3800 non-null object\n",
      "dtypes: object(7)\n",
      "memory usage: 216.7+ KB\n"
     ]
    }
   ],
   "source": [
    "df_dentidad.info()"
   ]
  },
  {
   "cell_type": "code",
   "execution_count": 15,
   "metadata": {},
   "outputs": [],
   "source": [
    "import re"
   ]
  },
  {
   "cell_type": "code",
   "execution_count": 16,
   "metadata": {},
   "outputs": [],
   "source": [
    "def clean(arr):\n",
    "    newWord = ''\n",
    "    for i in range(len(arr)):\n",
    "        w = ',' if i > 0 else ''\n",
    "        newWord+=w+arr[i]\n",
    "    arr=newWord\n",
    "    return arr\n",
    "\n",
    "def strip_accents(text):\n",
    "    aux_text = str(text).replace(\"á\",\"a\")\n",
    "    aux_text = aux_text.replace(\"é\",\"e\")\n",
    "    aux_text = aux_text.replace(\"í\",\"i\")\n",
    "    aux_text = aux_text.replace(\"ó\",\"o\")\n",
    "    aux_text = aux_text.replace(\"ú\",\"u\")\n",
    "    aux_text = aux_text.replace(\"ñ\",\"n\")\n",
    "    \n",
    "    return aux_text\n",
    "\n",
    "def isOnIt(word, sentence, flag_inductive = False, dec_or_ind = ''):\n",
    "    word = str(word)\n",
    "    \n",
    "    sentence = hashtag_rex.sub(\"\",str(sentence))\n",
    "    sentence = spaces_rex.sub(\" \",sentence)\n",
    "    if not(word.isupper()):\n",
    "        temp_words = word.upper()\n",
    "    else:\n",
    "        temp_words = word\n",
    "    f_words = temp_words\n",
    "    if dec_or_ind == 'Inductivo':\n",
    "        f_words = f_words.replace(\" \",\" [\\w+ ]*\")\n",
    "    temp_words = temp_words.split(\" \")\n",
    "    if (len(temp_words ) == 2) and not(flag_inductive):\n",
    "        regex_str = \"\\\\b({}|{})\\\\b\".format(f_words,\" \".join(temp_words[1:]))\n",
    "    else:\n",
    "        regex_str = \"\\\\b({})\\\\b\".format(f_words)\n",
    "    if not(word.isupper()):\n",
    "        x = re.findall(regex_str,sentence.upper())\n",
    "    else:\n",
    "        x = re.findall(regex_str,sentence)\n",
    "        \n",
    "    if x:\n",
    "        return True\n",
    "    else:\n",
    "        return False\n",
    "    "
   ]
  },
  {
   "cell_type": "code",
   "execution_count": 17,
   "metadata": {},
   "outputs": [
    {
     "data": {
      "text/plain": [
       "'Terremoto sacude las costas de Jamaica y Cuba. El sismo tuvo una magnitud de 7.7. Además, Minsal descartó presencia de Coronavirus en Chile tras el estudio a pacientes con síntomas. Y el Presidente Piñera llegó hasta las zonas más afectadas por las lluvias y aluviones en el norte de nuestro país.'"
      ]
     },
     "execution_count": 17,
     "metadata": {},
     "output_type": "execute_result"
    }
   ],
   "source": [
    "test = \"Terremoto sacude las costas de Jamaica y Cuba. El sismo tuvo una magnitud de 7.7. Además, Minsal descartó presencia de Coronavirus en Chile tras el estudio a pacientes con síntomas. Y el Presidente Piñera llegó hasta las zonas más afectadas por las lluvias y aluviones en el norte de nuestro país.\"\n",
    "test"
   ]
  },
  {
   "cell_type": "code",
   "execution_count": 18,
   "metadata": {},
   "outputs": [
    {
     "data": {
      "text/plain": [
       "True"
      ]
     },
     "execution_count": 18,
     "metadata": {},
     "output_type": "execute_result"
    }
   ],
   "source": [
    "'WHO'.isupper()"
   ]
  },
  {
   "cell_type": "code",
   "execution_count": 19,
   "metadata": {},
   "outputs": [
    {
     "name": "stdout",
     "output_type": "stream",
     "text": [
      "importing re on engine(s)\n"
     ]
    }
   ],
   "source": [
    "with dview.sync_imports():\n",
    "    import re"
   ]
  },
  {
   "cell_type": "code",
   "execution_count": 20,
   "metadata": {},
   "outputs": [],
   "source": [
    "hashtag_rex = re.compile(\"(#[A-Za-z0-9]+)\")\n",
    "spaces_rex = re.compile(\"\\s\\s+\")"
   ]
  },
  {
   "cell_type": "code",
   "execution_count": 21,
   "metadata": {},
   "outputs": [
    {
     "data": {
      "text/plain": [
       "'Terremoto sacude las costas de Jamaica y Cuba. El sismo tuvo una magnitud de 7.7. Ademas, Minsal descarto presencia de Coronavirus en Chile tras el estudio a pacientes con sintomas. Y el Presidente Pinera llego hasta las zonas mas afectadas por las lluvias y aluviones en el norte de nuestro pais.'"
      ]
     },
     "execution_count": 21,
     "metadata": {},
     "output_type": "execute_result"
    }
   ],
   "source": [
    "strip_accents(test)"
   ]
  },
  {
   "cell_type": "code",
   "execution_count": 22,
   "metadata": {},
   "outputs": [
    {
     "data": {
      "text/plain": [
       "True"
      ]
     },
     "execution_count": 22,
     "metadata": {},
     "output_type": "execute_result"
    }
   ],
   "source": [
    "isOnIt(\"Sebastian Piñera\",test)"
   ]
  },
  {
   "cell_type": "code",
   "execution_count": 23,
   "metadata": {},
   "outputs": [
    {
     "name": "stdout",
     "output_type": "stream",
     "text": [
      "  95/95 tasks finished after    0 s\n",
      "done\n"
     ]
    }
   ],
   "source": [
    "ar = dview.push({'isOnIt':isOnIt,'clean':clean,'country_dfs':country_dfs,'strip_accents':strip_accents,'hashtag_rex':hashtag_rex,'spaces_rex':spaces_rex},block=False)\n",
    "ar.wait_interactive()"
   ]
  },
  {
   "cell_type": "code",
   "execution_count": 24,
   "metadata": {},
   "outputs": [
    {
     "data": {
      "text/plain": [
       "dict_keys(['Brazil', 'Chile', 'Germany', 'Japan', 'Mexico', 'South Korea', 'Spain', 'TODOS', 'United Kingdom', 'United States'])"
      ]
     },
     "execution_count": 24,
     "metadata": {},
     "output_type": "execute_result"
    }
   ],
   "source": [
    "test = dview.pull('country_dfs',block=True,targets=0)\n",
    "test.keys()"
   ]
  },
  {
   "cell_type": "code",
   "execution_count": 25,
   "metadata": {},
   "outputs": [
    {
     "name": "stdout",
     "output_type": "stream",
     "text": [
      "<class 'pandas.core.frame.DataFrame'>\n",
      "RangeIndex: 304002 entries, 0 to 304001\n",
      "Data columns (total 9 columns):\n",
      "Date                304002 non-null object\n",
      "Country             304002 non-null object\n",
      "MediaOutlet         304002 non-null object\n",
      "MediaOrigin         304002 non-null object\n",
      "Message             296906 non-null object\n",
      "LinkText            293995 non-null object\n",
      "Verbs R2            90521 non-null object\n",
      "Actors R1           40416 non-null object\n",
      "Actors R1 - Type    40416 non-null object\n",
      "dtypes: object(9)\n",
      "memory usage: 20.9+ MB\n",
      "None\n"
     ]
    },
    {
     "data": {
      "text/html": [
       "<div>\n",
       "<style scoped>\n",
       "    .dataframe tbody tr th:only-of-type {\n",
       "        vertical-align: middle;\n",
       "    }\n",
       "\n",
       "    .dataframe tbody tr th {\n",
       "        vertical-align: top;\n",
       "    }\n",
       "\n",
       "    .dataframe thead th {\n",
       "        text-align: right;\n",
       "    }\n",
       "</style>\n",
       "<table border=\"1\" class=\"dataframe\">\n",
       "  <thead>\n",
       "    <tr style=\"text-align: right;\">\n",
       "      <th></th>\n",
       "      <th>Date</th>\n",
       "      <th>Country</th>\n",
       "      <th>MediaOutlet</th>\n",
       "      <th>MediaOrigin</th>\n",
       "      <th>Message</th>\n",
       "      <th>LinkText</th>\n",
       "      <th>Verbs R2</th>\n",
       "      <th>Actors R1</th>\n",
       "      <th>Actors R1 - Type</th>\n",
       "    </tr>\n",
       "  </thead>\n",
       "  <tbody>\n",
       "    <tr>\n",
       "      <th>0</th>\n",
       "      <td>Jan 2, 2020 @ 19:19:38.000</td>\n",
       "      <td>United States</td>\n",
       "      <td>Los Angeles Times</td>\n",
       "      <td>Print</td>\n",
       "      <td>The Trump administration has announced a tempo...</td>\n",
       "      <td>Trump administration imposed ban on some, but ...</td>\n",
       "      <td>announced</td>\n",
       "      <td>NaN</td>\n",
       "      <td>NaN</td>\n",
       "    </tr>\n",
       "    <tr>\n",
       "      <th>1</th>\n",
       "      <td>Jan 2, 2020 @ 22:39:39.000</td>\n",
       "      <td>United States</td>\n",
       "      <td>CBS US</td>\n",
       "      <td>Radio</td>\n",
       "      <td>The U.S. faces an epidemic of cyberattacks, wi...</td>\n",
       "      <td>Ransomware attack shuts down some Michigan sch...</td>\n",
       "      <td>NaN</td>\n",
       "      <td>NaN</td>\n",
       "      <td>NaN</td>\n",
       "    </tr>\n",
       "    <tr>\n",
       "      <th>2</th>\n",
       "      <td>Jan 3, 2020 @ 01:40:00.000</td>\n",
       "      <td>United States</td>\n",
       "      <td>Los Angeles Times</td>\n",
       "      <td>Print</td>\n",
       "      <td>California has expanded a quarantine zone in S...</td>\n",
       "      <td>California expands local quarantine to halt ci...</td>\n",
       "      <td>state</td>\n",
       "      <td>NaN</td>\n",
       "      <td>NaN</td>\n",
       "    </tr>\n",
       "    <tr>\n",
       "      <th>3</th>\n",
       "      <td>Jan 3, 2020 @ 08:16:13.000</td>\n",
       "      <td>Spain</td>\n",
       "      <td>24hTVE</td>\n",
       "      <td>TV</td>\n",
       "      <td>La decisión, que entrará en vigor en 30 días, ...</td>\n",
       "      <td>Prohíben en Estados Unidos los cartuchos para ...</td>\n",
       "      <td>NaN</td>\n",
       "      <td>NaN</td>\n",
       "      <td>NaN</td>\n",
       "    </tr>\n",
       "    <tr>\n",
       "      <th>4</th>\n",
       "      <td>Jan 3, 2020 @ 14:40:00.000</td>\n",
       "      <td>Chile</td>\n",
       "      <td>Elmostrador.cl</td>\n",
       "      <td>Online</td>\n",
       "      <td>CULTURA| La escasez hídrica producto del cambi...</td>\n",
       "      <td>Académica chilena en Nature: Más inversión en ...</td>\n",
       "      <td>NaN</td>\n",
       "      <td>NaN</td>\n",
       "      <td>NaN</td>\n",
       "    </tr>\n",
       "  </tbody>\n",
       "</table>\n",
       "</div>"
      ],
      "text/plain": [
       "                         Date        Country        MediaOutlet MediaOrigin  \\\n",
       "0  Jan 2, 2020 @ 19:19:38.000  United States  Los Angeles Times       Print   \n",
       "1  Jan 2, 2020 @ 22:39:39.000  United States             CBS US       Radio   \n",
       "2  Jan 3, 2020 @ 01:40:00.000  United States  Los Angeles Times       Print   \n",
       "3  Jan 3, 2020 @ 08:16:13.000          Spain             24hTVE          TV   \n",
       "4  Jan 3, 2020 @ 14:40:00.000          Chile     Elmostrador.cl      Online   \n",
       "\n",
       "                                             Message  \\\n",
       "0  The Trump administration has announced a tempo...   \n",
       "1  The U.S. faces an epidemic of cyberattacks, wi...   \n",
       "2  California has expanded a quarantine zone in S...   \n",
       "3  La decisión, que entrará en vigor en 30 días, ...   \n",
       "4  CULTURA| La escasez hídrica producto del cambi...   \n",
       "\n",
       "                                            LinkText   Verbs R2 Actors R1  \\\n",
       "0  Trump administration imposed ban on some, but ...  announced       NaN   \n",
       "1  Ransomware attack shuts down some Michigan sch...        NaN       NaN   \n",
       "2  California expands local quarantine to halt ci...      state       NaN   \n",
       "3  Prohíben en Estados Unidos los cartuchos para ...        NaN       NaN   \n",
       "4  Académica chilena en Nature: Más inversión en ...        NaN       NaN   \n",
       "\n",
       "  Actors R1 - Type  \n",
       "0              NaN  \n",
       "1              NaN  \n",
       "2              NaN  \n",
       "3              NaN  \n",
       "4              NaN  "
      ]
     },
     "execution_count": 25,
     "metadata": {},
     "output_type": "execute_result"
    }
   ],
   "source": [
    "cFile01 = 'COVID-post_enero-julio_FBK-DEF_EM_NV.csv'\n",
    "total_actores = []\n",
    "total_tipos = []\n",
    "df_test = pd.read_csv(cFile01, sep=';', low_memory=False)\n",
    "print(df_test.info())\n",
    "\n",
    "df_test.head()"
   ]
  },
  {
   "cell_type": "code",
   "execution_count": 26,
   "metadata": {},
   "outputs": [
    {
     "name": "stdout",
     "output_type": "stream",
     "text": [
      "In The New York Times Opinion Section \"This virus is anything but patriotic. It is exploding in China and spreading to other countries, much as SARS did in 2003,\" writes Yanzhong Huang.\n",
      "359\n",
      "\n",
      "New York Times Deductivo\n",
      "New York Times\n",
      "True\n"
     ]
    }
   ],
   "source": [
    "i = 1067\n",
    "df_test.iloc[3189,:]\n",
    "country = df_test.iloc[i]['Country']\n",
    "country_df = country_dfs[country]\n",
    "country_df = country_df.loc[:,['Entidad', 'Tipo de Fuentes MacroCat','Deductivo o Inductivo']].values\n",
    "print(df_test.iloc[i]['Message'])\n",
    "print(len(country_df))\n",
    "print()\n",
    "actores = []\n",
    "tipos = []\n",
    "\n",
    "for j in range(len(country_df)):\n",
    "    if not str(df_test.iloc[i]['Message']) in ['nan','--','/','-','?',',']:\n",
    "        \n",
    "        if isOnIt(country_df[j][0],df_test.iloc[i]['Message'],True,country_df[j][2]):\n",
    "            print(country_df[j][0],country_df[j][2])\n",
    "            print(df_test.iloc[i]['MediaOutlet'])\n",
    "            print(country_df[j][0] in df_test.iloc[i]['MediaOutlet'])\n",
    "            if country_df[j][0] not in actores and not(country_df[j][0] in df_test.iloc[i]['MediaOutlet']):\n",
    "                actores.append(country_df[j][0])\n",
    "                tipos.append(country_df[j][1])"
   ]
  },
  {
   "cell_type": "code",
   "execution_count": 27,
   "metadata": {},
   "outputs": [
    {
     "data": {
      "text/plain": [
       "[]"
      ]
     },
     "execution_count": 27,
     "metadata": {},
     "output_type": "execute_result"
    }
   ],
   "source": [
    "actores"
   ]
  },
  {
   "cell_type": "code",
   "execution_count": 28,
   "metadata": {},
   "outputs": [
    {
     "name": "stdout",
     "output_type": "stream",
     "text": [
      "The Coronavirus is coming from Wuhan to Ontario airport thanks to the federal government https://omny.fm/shows/the-drive-home-with-jillian-barberie-and-john-ph-1/the-john-phillips-show-01-28-20-12pm\n",
      "3185\n",
      "El sujeto se encuentra realizando los trámites para volver a su país desde la ciudad donde se originó el coronavirus. A pesar de esta cifra oficial, el gobernador de Chihuahua, Javier Corral, mencionó la existencia de otros compatriotas que quieren salir de capital china.\n",
      "3186\n",
      "🔴 ÚLTIMA HORA. Los cuatro afectados trabajan en la misma empresa donde había acudido hace unos días a impartir un curso de capacitación una mujer procedente de china.\n",
      "3187\n",
      "Coronavirus in the US: A map of where the few cases have been confirmed across the country.\n",
      "3188\n",
      "⭕️ Terremoto sacude las costas de Jamaica y Cuba. El sismo tuvo una magnitud de 7.7. Además, Minsal descartó presencia de Coronavirus en Chile tras el estudio a pacientes con síntomas. Y el Presidente Piñera llegó hasta las zonas más afectadas por las lluvias y aluviones en el norte de nuestro país.\n",
      "3189\n",
      "¿Cómo enfrentaría Europa una epidemia de Coronavirus? La información en #LasNoticiasConKarlaIberia\n",
      "3190\n",
      "Coronavirus in the US: A map of where the few cases have been confirmed across the country.\n",
      "3191\n",
      "\"Instamos a China: una mayor cooperación y transparencia son los pasos más importantes que se pueden dar hacia una respuesta más efectiva\", pidió el secretario de Salud de Estados Unidos, Alex Azar.\n",
      "3192\n",
      "Los encargados de la plataforma llamaron a los usuarios a no tomarse de manera tan seria sus planteamientos\n",
      "3193\n",
      "Francia confirmó un cuarto caso en su territorio del coronavirus: un turista chino, quien se encuentra en cuidados intensivos en un hospital parisino.\n",
      "3194\n"
     ]
    }
   ],
   "source": [
    "for i in (range(3185,3195)):\n",
    "    actores = []\n",
    "    tipos = []\n",
    "    country = df_test.iloc[i]['Country']\n",
    "    country_df = country_dfs[country]\n",
    "    country_df = country_df.loc[:,['Entidad','Tipo de Fuentes MacroCat','Deductivo o Inductivo','Cargo Específico']].values\n",
    "    print(df_test.iloc[i]['Message'])\n",
    "    for j in range(len(country_df)):\n",
    "        if not str(df_test.iloc[i]['Message']) in ['nan','--','/','-','?',',']:\n",
    "            if isOnIt(country_df[j][0],df_test.iloc[i]['Message'],True,country_df[j][2]):\n",
    "                if country_df[j][0] not in actores and not(country_df[j][0].lower() in df_test.iloc[i]['MediaOutlet'].lower()):\n",
    "                    actores.append(country_df[j][0])\n",
    "                    tipos.append(country_df[j][1])\n",
    "            if isOnIt(country_df[j][3],df_test.iloc[i]['Message'],True,country_df[j][2]):\n",
    "                if country_df[j][3] not in actores and not(country_df[j][3].lower() in df_test.iloc[i]['MediaOutlet'].lower()):\n",
    "                    actores.append(country_df[j][3])\n",
    "                    tipos.append(country_df[j][1])\n",
    "                    \n",
    "    todos_df = country_dfs[\"TODOS\"]\n",
    "    todos_df = todos_df.loc[:,['Entidad', 'Tipo de Fuentes MacroCat','Deductivo o Inductivo','Cargo Específico']].values\n",
    "    for j in range(len(todos_df)):\n",
    "        if not str(df_test.iloc[i]['Message']) in ['nan','--','/','-','?',',']:\n",
    "            if isOnIt(todos_df[j][0],df_test.iloc[i]['Message'],True,todos_df[j][2]):\n",
    "                if todos_df[j][0] not in actores and not(todos_df[j][0].lower() in df_test.iloc[i]['MediaOutlet'].lower()):\n",
    "                    actores.append(todos_df[j][0])\n",
    "                    tipos.append(todos_df[j][1])\n",
    "            if isOnIt(todos_df[j][3],df_test.iloc[i]['Message'],True,todos_df[j][2]):\n",
    "                if todos_df[j][3] not in actores and not(todos_df[j][3].lower() in df_test.iloc[i]['MediaOutlet'].lower()):\n",
    "                    actores.append(todos_df[j][3])\n",
    "                    tipos.append(todos_df[j][1])\n",
    "\n",
    "\n",
    "    actores = clean(actores)\n",
    "    tipos = clean(tipos)\n",
    "    total_actores.append(actores)\n",
    "    total_tipos.append(tipos)\n",
    "    print(i)"
   ]
  },
  {
   "cell_type": "code",
   "execution_count": 29,
   "metadata": {},
   "outputs": [
    {
     "data": {
      "text/plain": [
       "['Government',\n",
       " '',\n",
       " '',\n",
       " '',\n",
       " 'Minsal,Presidente Piñera,presidente,piñera',\n",
       " '',\n",
       " '',\n",
       " 'Secretario de Salud',\n",
       " '',\n",
       " '']"
      ]
     },
     "execution_count": 29,
     "metadata": {},
     "output_type": "execute_result"
    }
   ],
   "source": [
    "total_actores"
   ]
  },
  {
   "cell_type": "code",
   "execution_count": 30,
   "metadata": {},
   "outputs": [
    {
     "data": {
      "text/plain": [
       "['Political and Partisian Source',\n",
       " '',\n",
       " '',\n",
       " '',\n",
       " 'Political and Partisian Source,Political and Partisian Source,Political and Partisian Source,Political and Partisian Source']"
      ]
     },
     "execution_count": 30,
     "metadata": {},
     "output_type": "execute_result"
    }
   ],
   "source": [
    "total_tipos[:5]"
   ]
  },
  {
   "cell_type": "code",
   "execution_count": null,
   "metadata": {},
   "outputs": [],
   "source": []
  },
  {
   "cell_type": "code",
   "execution_count": 31,
   "metadata": {},
   "outputs": [
    {
     "data": {
      "text/plain": [
       "False"
      ]
     },
     "execution_count": 31,
     "metadata": {},
     "output_type": "execute_result"
    }
   ],
   "source": [
    "isOnIt(df_dentidad.iloc[189]['Entidad'],df_test.iloc[i]['Message'])"
   ]
  },
  {
   "cell_type": "code",
   "execution_count": 32,
   "metadata": {},
   "outputs": [
    {
     "name": "stdout",
     "output_type": "stream",
     "text": [
      "  95/95 tasks finished after   69 s\n",
      "done\n"
     ]
    }
   ],
   "source": [
    "ar = dview.push({'df_dentidad':df_dentidad,'df_test':df_test},block=False)\n",
    "ar.wait_interactive()"
   ]
  },
  {
   "cell_type": "code",
   "execution_count": 33,
   "metadata": {},
   "outputs": [],
   "source": [
    "from tqdm.notebook import tqdm"
   ]
  },
  {
   "cell_type": "code",
   "execution_count": 34,
   "metadata": {},
   "outputs": [],
   "source": [
    "@bview.parallel()\n",
    "def get_actors(idx):\n",
    "    actores = []\n",
    "    tipos = []\n",
    "    country = df_test.iloc[idx]['Country']\n",
    "    if 'Korea' in country:\n",
    "        country = \"South Korea\"\n",
    "    country_df = country_dfs[country]\n",
    "    country_df = country_df.loc[:,['Entidad', 'Tipo de Fuentes MacroCat','Deductivo o Inductivo','Cargo Específico']].values\n",
    "    #print(df_test.iloc[idx]['Message'])\n",
    "    for j in range(len(country_df)):\n",
    "        if not str(df_test.iloc[idx]['Message']) in ['nan','--','/','-','?',',']:\n",
    "            if isOnIt(country_df[j][0],df_test.iloc[idx]['Message'],True,country_df[j][2]):\n",
    "                if str(country_df[j][0]) not in actores and not(str(country_df[j][0]).lower() in df_test.iloc[idx]['MediaOutlet'].lower()):\n",
    "                    actores.append(str(country_df[j][0]))\n",
    "                    tipos.append(country_df[j][1])\n",
    "            if isOnIt(country_df[j][3],df_test.iloc[idx]['Message'],True,country_df[j][2]):\n",
    "                if str(country_df[j][3]) not in actores and not(str(country_df[j][3]).lower() in df_test.iloc[idx]['MediaOutlet'].lower()):\n",
    "                    actores.append(str(country_df[j][3]))\n",
    "                    tipos.append(country_df[j][1])\n",
    "                    \n",
    "    todos_df = country_dfs[\"TODOS\"]\n",
    "    todos_df = todos_df.loc[:,['Entidad', 'Tipo de Fuentes MacroCat','Deductivo o Inductivo','Cargo Específico']].values\n",
    "    for j in range(len(todos_df)):\n",
    "        if not str(df_test.iloc[idx]['Message']) in ['nan','--','/','-','?',',']:\n",
    "            if isOnIt(todos_df[j][0],df_test.iloc[idx]['Message'],True,todos_df[j][2]):\n",
    "                if todos_df[j][0] not in actores and not(str(todos_df[j][0]).lower() in df_test.iloc[idx]['MediaOutlet'].lower()):\n",
    "                    actores.append(todos_df[j][0])\n",
    "                    tipos.append(todos_df[j][1])\n",
    "            if isOnIt(todos_df[j][3],df_test.iloc[idx]['Message'],True,todos_df[j][2]):\n",
    "                if str(todos_df[j][3]) not in actores and not(str(todos_df[j][3]).lower() in df_test.iloc[idx]['MediaOutlet'].lower()):\n",
    "                    actores.append(str(todos_df[j][3]))\n",
    "                    tipos.append(todos_df[j][1])\n",
    "\n",
    "\n",
    "\n",
    "    actores = clean(actores)\n",
    "    tipos = clean(tipos)\n",
    "    \n",
    "    return actores, tipos"
   ]
  },
  {
   "cell_type": "code",
   "execution_count": 35,
   "metadata": {},
   "outputs": [],
   "source": [
    "import numpy as np\n"
   ]
  },
  {
   "cell_type": "code",
   "execution_count": 36,
   "metadata": {},
   "outputs": [
    {
     "data": {
      "text/plain": [
       "'Spain'"
      ]
     },
     "execution_count": 36,
     "metadata": {},
     "output_type": "execute_result"
    }
   ],
   "source": [
    "country = df_test.iloc[5]['Country']\n",
    "country"
   ]
  },
  {
   "cell_type": "code",
   "execution_count": 37,
   "metadata": {},
   "outputs": [
    {
     "name": "stdout",
     "output_type": "stream",
     "text": [
      "304002/304002 tasks finished after 2008 s\n",
      "done\n"
     ]
    }
   ],
   "source": [
    "total_actores = []\n",
    "total_tipos = []\n",
    "\n",
    "res = get_actors.map(np.arange(0,len(df_test)))\n",
    "res.wait_interactive()\n",
    "ans = res.get()\n",
    "\n",
    "for el in ans:\n",
    "    total_actores.append(el[0])\n",
    "    total_tipos.append(el[1])"
   ]
  },
  {
   "cell_type": "code",
   "execution_count": 38,
   "metadata": {},
   "outputs": [
    {
     "data": {
      "text/plain": [
       "['Government',\n",
       " '',\n",
       " '',\n",
       " '',\n",
       " 'Minsal,Presidente Piñera,presidente,piñera',\n",
       " '',\n",
       " '']"
      ]
     },
     "execution_count": 38,
     "metadata": {},
     "output_type": "execute_result"
    }
   ],
   "source": [
    "total_actores[3185:3192]"
   ]
  },
  {
   "cell_type": "code",
   "execution_count": 39,
   "metadata": {},
   "outputs": [
    {
     "data": {
      "text/html": [
       "<div>\n",
       "<style scoped>\n",
       "    .dataframe tbody tr th:only-of-type {\n",
       "        vertical-align: middle;\n",
       "    }\n",
       "\n",
       "    .dataframe tbody tr th {\n",
       "        vertical-align: top;\n",
       "    }\n",
       "\n",
       "    .dataframe thead th {\n",
       "        text-align: right;\n",
       "    }\n",
       "</style>\n",
       "<table border=\"1\" class=\"dataframe\">\n",
       "  <thead>\n",
       "    <tr style=\"text-align: right;\">\n",
       "      <th></th>\n",
       "      <th>Entidad</th>\n",
       "      <th>Cargo Específico</th>\n",
       "      <th>Tipo de Fuentes MacroCat</th>\n",
       "      <th>Tipo de Fuente MicroCat</th>\n",
       "      <th>País</th>\n",
       "      <th>Lengua</th>\n",
       "      <th>Deductivo o Inductivo</th>\n",
       "    </tr>\n",
       "  </thead>\n",
       "  <tbody>\n",
       "    <tr>\n",
       "      <th>44</th>\n",
       "      <td>대한상공회의소</td>\n",
       "      <td>사업가</td>\n",
       "      <td>Business Source</td>\n",
       "      <td>Asociación de empresarios</td>\n",
       "      <td>South Korea</td>\n",
       "      <td>Korean</td>\n",
       "      <td>Deductivo</td>\n",
       "    </tr>\n",
       "    <tr>\n",
       "      <th>45</th>\n",
       "      <td>소상공인연합회</td>\n",
       "      <td>사업가</td>\n",
       "      <td>Business Source</td>\n",
       "      <td>Asociación de empresarios</td>\n",
       "      <td>South Korea</td>\n",
       "      <td>Korean</td>\n",
       "      <td>Deductivo</td>\n",
       "    </tr>\n",
       "    <tr>\n",
       "      <th>46</th>\n",
       "      <td>중견기업연합회</td>\n",
       "      <td>사업가</td>\n",
       "      <td>Business Source</td>\n",
       "      <td>Asociación de empresarios</td>\n",
       "      <td>South Korea</td>\n",
       "      <td>Korean</td>\n",
       "      <td>Deductivo</td>\n",
       "    </tr>\n",
       "    <tr>\n",
       "      <th>47</th>\n",
       "      <td>중소기업중앙회</td>\n",
       "      <td>사업가</td>\n",
       "      <td>Business Source</td>\n",
       "      <td>Asociación de empresarios</td>\n",
       "      <td>South Korea</td>\n",
       "      <td>Korean</td>\n",
       "      <td>Deductivo</td>\n",
       "    </tr>\n",
       "    <tr>\n",
       "      <th>48</th>\n",
       "      <td>한국경영자총협회</td>\n",
       "      <td>사업가</td>\n",
       "      <td>Business Source</td>\n",
       "      <td>Asociación de empresarios</td>\n",
       "      <td>South Korea</td>\n",
       "      <td>Korean</td>\n",
       "      <td>Deductivo</td>\n",
       "    </tr>\n",
       "  </tbody>\n",
       "</table>\n",
       "</div>"
      ],
      "text/plain": [
       "     Entidad Cargo Específico Tipo de Fuentes MacroCat  \\\n",
       "44   대한상공회의소              사업가          Business Source   \n",
       "45   소상공인연합회              사업가          Business Source   \n",
       "46   중견기업연합회              사업가          Business Source   \n",
       "47   중소기업중앙회              사업가          Business Source   \n",
       "48  한국경영자총협회              사업가          Business Source   \n",
       "\n",
       "      Tipo de Fuente MicroCat         País  Lengua Deductivo o Inductivo  \n",
       "44  Asociación de empresarios  South Korea  Korean             Deductivo  \n",
       "45  Asociación de empresarios  South Korea  Korean             Deductivo  \n",
       "46  Asociación de empresarios  South Korea  Korean             Deductivo  \n",
       "47  Asociación de empresarios  South Korea  Korean             Deductivo  \n",
       "48  Asociación de empresarios  South Korea  Korean             Deductivo  "
      ]
     },
     "execution_count": 39,
     "metadata": {},
     "output_type": "execute_result"
    }
   ],
   "source": [
    "country_dfs['South Korea'].head()"
   ]
  },
  {
   "cell_type": "code",
   "execution_count": 40,
   "metadata": {},
   "outputs": [],
   "source": [
    "df_test['Actors R1'] = total_actores\n",
    "df_test['Actors R1 - Type'] = total_tipos\n",
    "df_test.to_csv(cFile01.replace(\"EM_NV\",\"final\"),encoding='utf-8-sig',sep=\";\",index=False)\n",
    "df_test.to_excel(cFile01.replace(\"EM_NV\",\"final\").replace(\"csv\",\"xlsx\"),index=False, engine='xlsxwriter')"
   ]
  },
  {
   "cell_type": "code",
   "execution_count": null,
   "metadata": {},
   "outputs": [],
   "source": []
  },
  {
   "cell_type": "code",
   "execution_count": 41,
   "metadata": {},
   "outputs": [],
   "source": [
    "import gc"
   ]
  },
  {
   "cell_type": "code",
   "execution_count": 42,
   "metadata": {},
   "outputs": [
    {
     "data": {
      "text/plain": [
       "'del res\\ndel ans\\ndel total_actores\\ndel total_tipos\\ndel df_test\\n\\nfor i in range(10): gc.collect()'"
      ]
     },
     "execution_count": 42,
     "metadata": {},
     "output_type": "execute_result"
    }
   ],
   "source": [
    "\"\"\"del res\n",
    "del ans\n",
    "del total_actores\n",
    "del total_tipos\n",
    "del df_test\n",
    "\n",
    "for i in range(10): gc.collect()\"\"\""
   ]
  },
  {
   "cell_type": "code",
   "execution_count": 43,
   "metadata": {},
   "outputs": [
    {
     "name": "stdout",
     "output_type": "stream",
     "text": [
      "  95/95 tasks finished after   17 s\n",
      "done\n"
     ]
    }
   ],
   "source": [
    "cFile01 = 'COVID-post_enero-julio_IGRAM-DEF_EM_NV.csv'\n",
    "total_actores = []\n",
    "total_tipos = []\n",
    "df_test = pd.read_csv(cFile01, sep=';', low_memory=False)\n",
    "\n",
    "ar = dview.push({'df_test':df_test},block=False)\n",
    "ar.wait_interactive()"
   ]
  },
  {
   "cell_type": "code",
   "execution_count": 44,
   "metadata": {},
   "outputs": [
    {
     "name": "stdout",
     "output_type": "stream",
     "text": [
      "33970/33970 tasks finished after  236 s\n",
      "done\n"
     ]
    }
   ],
   "source": [
    "res = get_actors.map(range(len(df_test)))\n",
    "res.wait_interactive()\n",
    "ans = res.get()\n",
    "\n",
    "for el in ans:\n",
    "    total_actores.append(el[0])\n",
    "    total_tipos.append(el[1])"
   ]
  },
  {
   "cell_type": "code",
   "execution_count": 45,
   "metadata": {},
   "outputs": [],
   "source": [
    "df_test['Actors R1'] = total_actores\n",
    "df_test['Actors R1 - Type'] = total_tipos\n",
    "df_test.to_csv(cFile01.replace(\"EM_NV\",\"final\"),encoding='utf-8-sig',sep=\";\",index=False)\n",
    "df_test.to_excel(cFile01.replace(\"EM_NV\",\"final\").replace(\"csv\",\"xlsx\"),index=False, engine='xlsxwriter')"
   ]
  },
  {
   "cell_type": "code",
   "execution_count": 46,
   "metadata": {},
   "outputs": [
    {
     "data": {
      "text/plain": [
       "'del res\\ndel ans\\ndel total_actores\\ndel total_tipos\\ndel df_test\\n\\nfor i in range(10): gc.collect()'"
      ]
     },
     "execution_count": 46,
     "metadata": {},
     "output_type": "execute_result"
    }
   ],
   "source": [
    "\"\"\"del res\n",
    "del ans\n",
    "del total_actores\n",
    "del total_tipos\n",
    "del df_test\n",
    "\n",
    "for i in range(10): gc.collect()\"\"\""
   ]
  },
  {
   "cell_type": "code",
   "execution_count": 47,
   "metadata": {},
   "outputs": [
    {
     "name": "stdout",
     "output_type": "stream",
     "text": [
      "  95/95 tasks finished after   53 s\n",
      "done\n"
     ]
    }
   ],
   "source": [
    "cFile01 = 'COVID-post_enero-julio_TWR-DEF_EM_NV.csv'\n",
    "total_actores = []\n",
    "total_tipos = []\n",
    "df_test = pd.read_csv(cFile01, sep=';', low_memory=False)\n",
    "\n",
    "ar = dview.push({'df_test':df_test},block=False)\n",
    "ar.wait_interactive()"
   ]
  },
  {
   "cell_type": "code",
   "execution_count": 48,
   "metadata": {},
   "outputs": [
    {
     "name": "stdout",
     "output_type": "stream",
     "text": [
      "314768/314768 tasks finished after 2020 s\n",
      "done\n"
     ]
    }
   ],
   "source": [
    "res = get_actors.map(range(len(df_test)))\n",
    "res.wait_interactive()\n",
    "ans = res.get()\n",
    "\n",
    "for el in ans:\n",
    "    total_actores.append(el[0])\n",
    "    total_tipos.append(el[1])"
   ]
  },
  {
   "cell_type": "code",
   "execution_count": 49,
   "metadata": {},
   "outputs": [],
   "source": [
    "df_test['Actors R1'] = total_actores\n",
    "df_test['Actors R1 - Type'] = total_tipos\n",
    "df_test.to_csv(cFile01.replace(\"EM_NV\",\"final\"),encoding='utf-8-sig',sep=\";\",index=False)\n",
    "df_test.to_excel(cFile01.replace(\"EM_NV\",\"final\").replace(\"csv\",\"xlsx\"),index=False, engine='xlsxwriter')"
   ]
  },
  {
   "cell_type": "code",
   "execution_count": 50,
   "metadata": {},
   "outputs": [],
   "source": [
    "del res\n",
    "del ans\n",
    "del total_actores\n",
    "del total_tipos\n",
    "del df_test\n",
    "for i in range(30): gc.collect()"
   ]
  },
  {
   "cell_type": "code",
   "execution_count": 51,
   "metadata": {},
   "outputs": [
    {
     "ename": "ZeroDivisionError",
     "evalue": "division by zero",
     "output_type": "error",
     "traceback": [
      "\u001b[0;31m---------------------------------------------------------------------------\u001b[0m",
      "\u001b[0;31mZeroDivisionError\u001b[0m                         Traceback (most recent call last)",
      "\u001b[0;32m<ipython-input-51-9ab73e148374>\u001b[0m in \u001b[0;36m<module>\u001b[0;34m\u001b[0m\n\u001b[0;32m----> 1\u001b[0;31m \u001b[0;36m0\u001b[0m\u001b[0;34m/\u001b[0m\u001b[0;36m0\u001b[0m\u001b[0;34m\u001b[0m\u001b[0;34m\u001b[0m\u001b[0m\n\u001b[0m",
      "\u001b[0;31mZeroDivisionError\u001b[0m: division by zero"
     ]
    }
   ],
   "source": [
    "0/0"
   ]
  },
  {
   "cell_type": "code",
   "execution_count": null,
   "metadata": {},
   "outputs": [],
   "source": [
    "ans[11]"
   ]
  },
  {
   "cell_type": "code",
   "execution_count": null,
   "metadata": {},
   "outputs": [],
   "source": [
    "df_test[df_test.Message == '--']"
   ]
  },
  {
   "cell_type": "code",
   "execution_count": null,
   "metadata": {},
   "outputs": [],
   "source": [
    "for i in tqdm(range(len(df_test))):\n",
    "    actores = []\n",
    "    tipos = []\n",
    "    for j in range(len(df_dentidad)):\n",
    "        if not str(df_test.iloc[i]['Message']) in ['nan','--','/','-','?',',']:\n",
    "            if isOnIt(df_dentidad.iloc[j]['Entidad'],df_test.iloc[i]['Message']):\n",
    "                if df_dentidad.iloc[j]['Entidad'] not in actores:\n",
    "                    actores.append(df_dentidad.iloc[j]['Entidad'])\n",
    "                    tipos.append(df_dentidad.iloc[j]['Tipo de Fuentes MacroCat'])\n",
    "\n",
    "\n",
    "    actores = clean(actores)\n",
    "    tipos = clean(tipos)\n",
    "    total_actores.append(actores)\n",
    "    total_tipos.append(tipos)\n",
    "    print(i)\n",
    "\n",
    "df_test['Actors R1'] = total_actores\n",
    "df_test['Actors R1 - Type'] = total_tipos\n",
    "df_test.to_csv(ftest,sep=\";\",index=False)"
   ]
  },
  {
   "cell_type": "code",
   "execution_count": null,
   "metadata": {},
   "outputs": [],
   "source": [
    "not str(df_test.iloc[i]['Message']) in ['nan','--','/','-','?',',']"
   ]
  },
  {
   "cell_type": "code",
   "execution_count": null,
   "metadata": {},
   "outputs": [],
   "source": [
    "%%time\n",
    "if not str(df_test.iloc[i]['Message']) in ['nan','--','/','-','?',',']:\n",
    "    if isOnIt(df_dentidad.iloc[j]['Entidad'],df_test.iloc[i]['Message']):\n",
    "        if df_dentidad.iloc[j]['Entidad'] not in actores:\n",
    "            actores.append(df_dentidad.iloc[j]['Entidad'])\n",
    "            tipos.append(df_dentidad.iloc[j]['Tipo de Fuentes MacroCat'])"
   ]
  },
  {
   "cell_type": "code",
   "execution_count": null,
   "metadata": {},
   "outputs": [],
   "source": [
    "actores"
   ]
  },
  {
   "cell_type": "code",
   "execution_count": null,
   "metadata": {},
   "outputs": [],
   "source": [
    "df_dentidad.iloc[j]['Entidad']"
   ]
  },
  {
   "cell_type": "code",
   "execution_count": null,
   "metadata": {},
   "outputs": [],
   "source": [
    "a = isOnIt(df_dentidad.iloc[j]['Entidad'],df_test.iloc[i]['Message'])\n",
    "print(a)"
   ]
  },
  {
   "cell_type": "code",
   "execution_count": null,
   "metadata": {},
   "outputs": [],
   "source": []
  }
 ],
 "metadata": {
  "kernelspec": {
   "display_name": "Python 3",
   "language": "python",
   "name": "python3"
  },
  "language_info": {
   "codemirror_mode": {
    "name": "ipython",
    "version": 3
   },
   "file_extension": ".py",
   "mimetype": "text/x-python",
   "name": "python",
   "nbconvert_exporter": "python",
   "pygments_lexer": "ipython3",
   "version": "3.6.8"
  }
 },
 "nbformat": 4,
 "nbformat_minor": 4
}
